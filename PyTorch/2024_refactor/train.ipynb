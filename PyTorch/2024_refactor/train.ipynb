{
 "cells": [
  {
   "cell_type": "markdown",
   "metadata": {
    "tags": []
   },
   "source": [
    "# AutoPhaseNN\n",
    "#### Pytorch version (under development)"
   ]
  },
  {
   "cell_type": "code",
   "execution_count": 1,
   "metadata": {
    "id": "A_1lijuK4Pi_"
   },
   "outputs": [],
   "source": [
    "import os\n",
    "os.environ[\"CUDA_VISIBLE_DEVICES\"]=\"0\"\n",
    "\n",
    "import torch\n",
    "import torch.nn as nn\n",
    "\n",
    "from torchinfo import summary\n",
    "from tqdm.notebook import tqdm \n",
    "import numpy as np\n",
    "\n",
    "from torch.utils.data import TensorDataset, DataLoader\n",
    "from torch.utils.data.distributed import DistributedSampler\n",
    "import matplotlib.pyplot as plt\n",
    "import matplotlib\n",
    "\n",
    "import params\n",
    "from data_loader import *"
   ]
  },
  {
   "cell_type": "code",
   "execution_count": 2,
   "metadata": {},
   "outputs": [
    {
     "name": "stdout",
     "output_type": "stream",
     "text": [
      "GPUs: 1 Batch size: 128 Learning rate: 0.0004\n",
      "SW Thresh increment 0.0005084745762711864\n"
     ]
    }
   ],
   "source": [
    "NGPUS = torch.cuda.device_count()\n",
    "BATCH_SIZE = NGPUS * params.BATCH_SIZE_PER_GPU \n",
    "LR = NGPUS * params.BASE_LR\n",
    "print(\"GPUs:\", NGPUS, \"Batch size:\", BATCH_SIZE, \"Learning rate:\", LR)\n",
    "\n",
    "SW_INCREMENT = (params.FINAL_SW-params.INIT_SW)/(params.EPOCHS-1-params.CONST_EPOCHS)\n",
    "print(\"SW Thresh increment\", SW_INCREMENT)"
   ]
  },
  {
   "cell_type": "markdown",
   "metadata": {},
   "source": [
    "### Plotting"
   ]
  },
  {
   "cell_type": "code",
   "execution_count": 3,
   "metadata": {
    "colab": {
     "base_uri": "https://localhost:8080/",
     "height": 34
    },
    "id": "PzTU_HGIlbrk",
    "outputId": "8ada511e-6bec-4ad5-8fba-143eaa924286"
   },
   "outputs": [
    {
     "data": {
      "text/plain": [
       "<Figure size 640x480 with 0 Axes>"
      ]
     },
     "metadata": {},
     "output_type": "display_data"
    }
   ],
   "source": [
    "plt.style.use('seaborn-v0_8-white')\n",
    "#matplotlib.rc('xtick', labelsize=20) \n",
    "#matplotlib.rc('ytick', labelsize=20)\n",
    "matplotlib.rc('font',family='Times New Roman')\n",
    "matplotlib.rcParams['font.size'] = 20\n",
    "plt.viridis()\n",
    "%matplotlib inline"
   ]
  },
  {
   "cell_type": "code",
   "execution_count": 4,
   "metadata": {},
   "outputs": [],
   "source": [
    "def plot6(data,titles):\n",
    "    if(len(titles)<3):\n",
    "        titles=[\"Plot1\", \"Plot2\", \"Plot3\", \"Plot4\", \"Plot5\", \"Plot6\"]\n",
    "    ind = data[0].shape[0]//2\n",
    "    fig, axes = plt.subplots(1,6, figsize=(19,3), constrained_layout=True)\n",
    "    for ix, ax in enumerate(axes):\n",
    "        im=ax.imshow(data[ix][ind])\n",
    "        plt.colorbar(im, ax=ax)\n",
    "        ax.set_title(titles[ix])"
   ]
  },
  {
   "cell_type": "markdown",
   "metadata": {},
   "source": [
    "### Load and check data, then prepare as tensors"
   ]
  },
  {
   "cell_type": "code",
   "execution_count": 5,
   "metadata": {},
   "outputs": [
    {
     "name": "stdout",
     "output_type": "stream",
     "text": [
      "number of available file:54028\n",
      "number of training:50000\n"
     ]
    }
   ],
   "source": [
    "# # data loader\n",
    "\n",
    "dataname_list = os.path.join(params.data_path, '3D_upsamp.txt')\n",
    "filelist = []\n",
    "\n",
    "with open(dataname_list, 'r') as f:\n",
    "    txtfile = f.readlines()\n",
    "for i in range(len(txtfile)):\n",
    "    tmp = str(txtfile[i]).split('/')[-1]\n",
    "    tmp = tmp.split('\\n')[0]\n",
    "\n",
    "    filelist.append(tmp)\n",
    "f.close()\n",
    "print('number of available file:%d' % len(filelist))\n",
    "\n",
    "# give training data size and filelist\n",
    "# train_file_indxs = np.random.randint(len(filelist), size=N_TRAIN).astype('int')\n",
    "# train_filelist = [filelist[idx] for idx in train_file_indxs]\n",
    "train_filelist = filelist[:params.N_TRAIN]\n",
    "print('number of training:%d' % len(train_filelist))\n"
   ]
  },
  {
   "cell_type": "code",
   "execution_count": 6,
   "metadata": {},
   "outputs": [],
   "source": [
    "# load training data and validation data\n",
    "train_dataset = Dataset(\n",
    "    train_filelist, params.data_path, load_all=False, \n",
    "    ratio=params.TRAIN_ratio, dataset='train',scale_I=params.scale_I)\n",
    "train_loader = DataLoader(\n",
    "    train_dataset, batch_size=BATCH_SIZE, shuffle=True, num_workers=NGPUS*4)\n",
    "# train_sampler = DistributedSampler(\n",
    "#     train_dataset, num_replicas=NGPUS, rank=rank, shuffle=True)\n",
    "# train_loader = DataLoader(\n",
    "#     train_dataset, batch_size=BATCH_SIZE, sampler=train_sampler, shuffle=False, num_workers=NGPUS*8)\n",
    "\n",
    "\n",
    "validation_dataset = Dataset(\n",
    "    train_filelist, params.data_path, load_all=False, ratio=params.TRAIN_ratio, \n",
    "    dataset='validation',scale_I=params.scale_I)\n",
    "validation_loader = DataLoader(\n",
    "    validation_dataset, batch_size=BATCH_SIZE, shuffle=True, num_workers=NGPUS*4)\n",
    "# validation_sampler = DistributedSampler(\n",
    "#     validation_dataset, num_replicas=NGPUS, rank=rank, shuffle=True)\n",
    "# validation_loader = DataLoader(\n",
    "#     validation_dataset, batch_size=BATCH_SIZE, sampler=validation_sampler, shuffle=False, num_workers=NGPUS*8)"
   ]
  },
  {
   "cell_type": "markdown",
   "metadata": {},
   "source": [
    "### Check the model works"
   ]
  },
  {
   "cell_type": "code",
   "execution_count": 7,
   "metadata": {},
   "outputs": [],
   "source": [
    "from model import recon_model"
   ]
  },
  {
   "cell_type": "code",
   "execution_count": 8,
   "metadata": {
    "colab": {
     "base_uri": "https://localhost:8080/"
    },
    "id": "ivFBTA91-TTl",
    "outputId": "13f114cc-7423-4c8d-b52f-5ef668965be5"
   },
   "outputs": [
    {
     "name": "stdout",
     "output_type": "stream",
     "text": [
      "batch size: torch.Size([128, 1, 64, 64, 64]) torch.Size([128, 1, 64, 64, 64]) torch.Size([128, 1, 64, 64, 64])\n",
      "torch.Size([128, 1, 64, 64, 64]) torch.Size([128, 1, 64, 64, 64]) torch.Size([128, 1, 64, 64, 64]) torch.Size([128, 1, 64, 64, 64])\n",
      "torch.float32 torch.complex64 torch.float32 torch.float32\n"
     ]
    }
   ],
   "source": [
    "model = recon_model()\n",
    "for ft_images,amps,phs in train_loader:\n",
    "    print(\"batch size:\", ft_images.shape, amps.shape, phs.shape)\n",
    "    #outs = model(ft_images)\n",
    "    #print(*[o.shape for o in outs])\n",
    "    #print(*[o.dtype for o in outs])\n",
    "    y, complex_x, amp, ph, _ = model(ft_images)\n",
    "    print(y.shape, complex_x.shape, amp.shape, ph.shape)\n",
    "    print(y.dtype, complex_x.dtype, amp.dtype, ph.dtype)\n",
    "    break"
   ]
  },
  {
   "cell_type": "code",
   "execution_count": 9,
   "metadata": {},
   "outputs": [
    {
     "data": {
      "text/plain": [
       "==========================================================================================\n",
       "Layer (type:depth-idx)                   Output Shape              Param #\n",
       "==========================================================================================\n",
       "recon_model                              [1, 1, 64, 64, 64]        --\n",
       "├─Sequential: 1-1                        [1, 256, 4, 4, 4]         --\n",
       "│    └─Conv3d: 2-1                       [1, 32, 64, 64, 64]       896\n",
       "│    └─LeakyReLU: 2-2                    [1, 32, 64, 64, 64]       --\n",
       "│    └─BatchNorm3d: 2-3                  [1, 32, 64, 64, 64]       64\n",
       "│    └─Conv3d: 2-4                       [1, 64, 32, 32, 32]       55,360\n",
       "│    └─LeakyReLU: 2-5                    [1, 64, 32, 32, 32]       --\n",
       "│    └─BatchNorm3d: 2-6                  [1, 64, 32, 32, 32]       128\n",
       "│    └─Conv3d: 2-7                       [1, 64, 32, 32, 32]       110,656\n",
       "│    └─LeakyReLU: 2-8                    [1, 64, 32, 32, 32]       --\n",
       "│    └─BatchNorm3d: 2-9                  [1, 64, 32, 32, 32]       128\n",
       "│    └─Conv3d: 2-10                      [1, 128, 16, 16, 16]      221,312\n",
       "│    └─LeakyReLU: 2-11                   [1, 128, 16, 16, 16]      --\n",
       "│    └─BatchNorm3d: 2-12                 [1, 128, 16, 16, 16]      256\n",
       "│    └─Conv3d: 2-13                      [1, 128, 16, 16, 16]      442,496\n",
       "│    └─LeakyReLU: 2-14                   [1, 128, 16, 16, 16]      --\n",
       "│    └─BatchNorm3d: 2-15                 [1, 128, 16, 16, 16]      256\n",
       "│    └─Conv3d: 2-16                      [1, 256, 8, 8, 8]         884,992\n",
       "│    └─LeakyReLU: 2-17                   [1, 256, 8, 8, 8]         --\n",
       "│    └─BatchNorm3d: 2-18                 [1, 256, 8, 8, 8]         512\n",
       "│    └─Conv3d: 2-19                      [1, 256, 4, 4, 4]         1,769,728\n",
       "│    └─LeakyReLU: 2-20                   [1, 256, 4, 4, 4]         --\n",
       "│    └─BatchNorm3d: 2-21                 [1, 256, 4, 4, 4]         512\n",
       "├─Sequential: 1-2                        [1, 1, 32, 32, 32]        --\n",
       "│    └─Conv3d: 2-22                      [1, 128, 4, 4, 4]         884,864\n",
       "│    └─LeakyReLU: 2-23                   [1, 128, 4, 4, 4]         --\n",
       "│    └─BatchNorm3d: 2-24                 [1, 128, 4, 4, 4]         256\n",
       "│    └─Conv3d: 2-25                      [1, 128, 4, 4, 4]         442,496\n",
       "│    └─LeakyReLU: 2-26                   [1, 128, 4, 4, 4]         --\n",
       "│    └─BatchNorm3d: 2-27                 [1, 128, 4, 4, 4]         256\n",
       "│    └─Upsample: 2-28                    [1, 128, 8, 8, 8]         --\n",
       "│    └─Conv3d: 2-29                      [1, 64, 8, 8, 8]          221,248\n",
       "│    └─LeakyReLU: 2-30                   [1, 64, 8, 8, 8]          --\n",
       "│    └─BatchNorm3d: 2-31                 [1, 64, 8, 8, 8]          128\n",
       "│    └─Conv3d: 2-32                      [1, 64, 8, 8, 8]          110,656\n",
       "│    └─LeakyReLU: 2-33                   [1, 64, 8, 8, 8]          --\n",
       "│    └─BatchNorm3d: 2-34                 [1, 64, 8, 8, 8]          128\n",
       "│    └─Upsample: 2-35                    [1, 64, 16, 16, 16]       --\n",
       "│    └─Conv3d: 2-36                      [1, 32, 16, 16, 16]       55,328\n",
       "│    └─LeakyReLU: 2-37                   [1, 32, 16, 16, 16]       --\n",
       "│    └─BatchNorm3d: 2-38                 [1, 32, 16, 16, 16]       64\n",
       "│    └─Conv3d: 2-39                      [1, 32, 16, 16, 16]       27,680\n",
       "│    └─LeakyReLU: 2-40                   [1, 32, 16, 16, 16]       --\n",
       "│    └─BatchNorm3d: 2-41                 [1, 32, 16, 16, 16]       64\n",
       "│    └─Upsample: 2-42                    [1, 32, 32, 32, 32]       --\n",
       "│    └─Conv3d: 2-43                      [1, 1, 32, 32, 32]        865\n",
       "│    └─Sigmoid: 2-44                     [1, 1, 32, 32, 32]        --\n",
       "├─Sequential: 1-3                        [1, 1, 32, 32, 32]        --\n",
       "│    └─Conv3d: 2-45                      [1, 128, 4, 4, 4]         884,864\n",
       "│    └─LeakyReLU: 2-46                   [1, 128, 4, 4, 4]         --\n",
       "│    └─BatchNorm3d: 2-47                 [1, 128, 4, 4, 4]         256\n",
       "│    └─Conv3d: 2-48                      [1, 128, 4, 4, 4]         442,496\n",
       "│    └─LeakyReLU: 2-49                   [1, 128, 4, 4, 4]         --\n",
       "│    └─BatchNorm3d: 2-50                 [1, 128, 4, 4, 4]         256\n",
       "│    └─Upsample: 2-51                    [1, 128, 8, 8, 8]         --\n",
       "│    └─Conv3d: 2-52                      [1, 64, 8, 8, 8]          221,248\n",
       "│    └─LeakyReLU: 2-53                   [1, 64, 8, 8, 8]          --\n",
       "│    └─BatchNorm3d: 2-54                 [1, 64, 8, 8, 8]          128\n",
       "│    └─Conv3d: 2-55                      [1, 64, 8, 8, 8]          110,656\n",
       "│    └─LeakyReLU: 2-56                   [1, 64, 8, 8, 8]          --\n",
       "│    └─BatchNorm3d: 2-57                 [1, 64, 8, 8, 8]          128\n",
       "│    └─Upsample: 2-58                    [1, 64, 16, 16, 16]       --\n",
       "│    └─Conv3d: 2-59                      [1, 32, 16, 16, 16]       55,328\n",
       "│    └─LeakyReLU: 2-60                   [1, 32, 16, 16, 16]       --\n",
       "│    └─BatchNorm3d: 2-61                 [1, 32, 16, 16, 16]       64\n",
       "│    └─Conv3d: 2-62                      [1, 32, 16, 16, 16]       27,680\n",
       "│    └─LeakyReLU: 2-63                   [1, 32, 16, 16, 16]       --\n",
       "│    └─BatchNorm3d: 2-64                 [1, 32, 16, 16, 16]       64\n",
       "│    └─Upsample: 2-65                    [1, 32, 32, 32, 32]       --\n",
       "│    └─Conv3d: 2-66                      [1, 1, 32, 32, 32]        865\n",
       "│    └─Tanh: 2-67                        [1, 1, 32, 32, 32]        --\n",
       "==========================================================================================\n",
       "Total params: 6,975,362\n",
       "Trainable params: 6,975,362\n",
       "Non-trainable params: 0\n",
       "Total mult-adds (Units.GIGABYTES): 10.21\n",
       "==========================================================================================\n",
       "Input size (MB): 1.05\n",
       "Forward/backward pass size (MB): 232.00\n",
       "Params size (MB): 27.90\n",
       "Estimated Total Size (MB): 260.95\n",
       "=========================================================================================="
      ]
     },
     "execution_count": 9,
     "metadata": {},
     "output_type": "execute_result"
    }
   ],
   "source": [
    "summary(model, (1, 1, 64,64,64), device='cpu')"
   ]
  },
  {
   "cell_type": "markdown",
   "metadata": {},
   "source": [
    "### Move model to appropriate device"
   ]
  },
  {
   "cell_type": "code",
   "execution_count": 10,
   "metadata": {
    "colab": {
     "base_uri": "https://localhost:8080/"
    },
    "id": "F9KCEoQyBf3f",
    "outputId": "91478b2b-cb9b-4f6c-b242-b4c016421b9f"
   },
   "outputs": [],
   "source": [
    "model = recon_model()\n",
    "\n",
    "device = torch.device(\"cuda\" if torch.cuda.is_available() else \"cpu\")\n",
    "if NGPUS > 1:\n",
    "    print(\"Let's use\", torch.cuda.device_count(), \"GPUs!\")\n",
    "    # dim = 0 [30, xxx] -> [10, ...], [10, ...], [10, ...] on 3 GPUs\n",
    "    model = nn.DataParallel(model) #Default all devices\n",
    "\n",
    "model = model.to(device)"
   ]
  },
  {
   "cell_type": "markdown",
   "metadata": {},
   "source": [
    "### Setup optimizer and cyclicLR"
   ]
  },
  {
   "cell_type": "code",
   "execution_count": 11,
   "metadata": {},
   "outputs": [
    {
     "name": "stdout",
     "output_type": "stream",
     "text": [
      "LR step size is: 2112.0 which is every 6 epochs\n"
     ]
    }
   ],
   "source": [
    "#Optimizer details\n",
    "iterations_per_epoch = np.floor((params.N_TRAIN*params.TRAIN_ratio)/BATCH_SIZE)+1 #Final batch will be less than batch size\n",
    "step_size = 6*iterations_per_epoch #Paper recommends 2-10 number of iterations, step_size is half cycle\n",
    "print(\"LR step size is:\", step_size, \"which is every %d epochs\" %(step_size/iterations_per_epoch))\n",
    "\n",
    "criterion = nn.L1Loss()\n",
    "optimizer = torch.optim.AdamW(model.parameters(), lr = LR) #Adam with weight decay\n",
    "scheduler = torch.optim.lr_scheduler.CyclicLR(optimizer, base_lr=LR, \n",
    "                                              max_lr=LR*5, step_size_up=step_size,\n",
    "                                              cycle_momentum=False, mode='triangular2')"
   ]
  },
  {
   "cell_type": "markdown",
   "metadata": {},
   "source": [
    "## Training and Validation Loop"
   ]
  },
  {
   "cell_type": "code",
   "execution_count": 12,
   "metadata": {},
   "outputs": [],
   "source": [
    "#Function to update saved model if validation loss is minimum\n",
    "def update_saved_model(model, path):\n",
    "    if not os.path.isdir(path):\n",
    "        os.mkdir(path)\n",
    "    for f in os.listdir(path):\n",
    "        os.remove(os.path.join(path, f))\n",
    "    if NGPUS > 1:\n",
    "        torch.save(model.module.state_dict(),path+'best_model.pth') #Have to save the underlying model else will always need 4 GPUs\n",
    "    else:\n",
    "        torch.save(model.state_dict(),path+'best_model.pth')"
   ]
  },
  {
   "cell_type": "code",
   "execution_count": 13,
   "metadata": {},
   "outputs": [],
   "source": [
    "def train(trainloader,metrics):\n",
    "    loss_ft = 0.0\n",
    "    loss_amp = 0.0\n",
    "    loss_ph = 0.0\n",
    "    \n",
    "    for i, (ft_images,amps,phs) in tqdm(enumerate(trainloader)):\n",
    "        ft_images = ft_images.to(device) #Move everything to device\n",
    "        amps = amps.to(device)\n",
    "        phs = phs.to(device)\n",
    "\n",
    "        y, _, pred_amps, pred_phs, support = model(ft_images) #Forward pass\n",
    "        \n",
    "        #Compute losses\n",
    "        loss_f = criterion(y, ft_images)\n",
    "        loss_a = criterion(pred_amps,amps) #Monitor amplitude loss\n",
    "        loss_p = criterion(pred_phs*support,phs) #Monitor phase loss but only within support (which may not be same as true amp)\n",
    "        loss = loss_f #Use only FT loss for gradients\n",
    "        #loss = loss_a + loss_p + loss_f\n",
    "\n",
    "        #Zero current grads and do backprop\n",
    "        optimizer.zero_grad() \n",
    "        loss.backward()\n",
    "        optimizer.step()\n",
    "\n",
    "        loss_ft += loss_f.detach().item()\n",
    "        loss_amp += loss_a.detach().item()\n",
    "        loss_ph += loss_p.detach().item()\n",
    "        #loss_ft = 0\n",
    "\n",
    "        #Update the LR according to the schedule -- CyclicLR updates each batch\n",
    "        scheduler.step() \n",
    "        metrics['lrs'].append(scheduler.get_last_lr())\n",
    "        \n",
    "        \n",
    "    #Divide cumulative loss by number of batches-- sli inaccurate because last batch is different size\n",
    "    metrics['losses'].append([loss_ft/i,loss_amp/i,loss_ph/i]) \n",
    "    \n",
    "\n",
    "def validate(validloader,metrics):\n",
    "    val_loss_ft = 0.0\n",
    "    val_loss_amp = 0.0\n",
    "    val_loss_ph = 0.0\n",
    "    for j, (ft_images,amps,phs) in enumerate(validloader):\n",
    "        ft_images = ft_images.to(device)\n",
    "        amps = amps.to(device)\n",
    "        phs = phs.to(device)\n",
    "        y, _, pred_amps, pred_phs, support = model(ft_images) #Forward pass\n",
    "        #pred_amps, pred_phs, support = model(ft_images) #Forward pass\n",
    "    \n",
    "        val_loss_f = criterion(y, ft_images)\n",
    "        val_loss_a = criterion(pred_amps,amps) \n",
    "        val_loss_p = criterion(pred_phs*support,phs) \n",
    "    \n",
    "        val_loss_ft += val_loss_f.detach().item()\n",
    "        val_loss_amp += val_loss_a.detach().item()\n",
    "        val_loss_ph += val_loss_p.detach().item()  \n",
    "        \n",
    "    metrics['val_losses'].append([val_loss_ft/j,val_loss_amp/j,val_loss_ph/j])\n",
    "    \n",
    "  #Update saved model if val loss is lower\n",
    "    if(val_loss_ft/j<metrics['best_val_loss']):\n",
    "        print(\"Saving improved model after Val Loss improved from %.5f to %.5f\" %(metrics['best_val_loss'],val_loss_ft/j))\n",
    "        metrics['best_val_loss'] = val_loss_ft/j\n",
    "        update_saved_model(model, params.MODEL_SAVE_PATH)"
   ]
  },
  {
   "cell_type": "code",
   "execution_count": 14,
   "metadata": {
    "colab": {
     "base_uri": "https://localhost:8080/",
     "height": 739,
     "referenced_widgets": [
      "1e03b61d3f944de1a5a5d853260b4c66",
      "9800141673b449ed879fd0da9abc5a46",
      "1b670225b5ca4ce99984de10dcc684e3",
      "c322e7cb475040aabf23105fe9a9e56a",
      "7f2002b21bca4afdbfaa32893af58e7e",
      "0985d6d3ec7945a1adaed47f459cf230",
      "b279fbd8ee194722a43b811cbbb94619",
      "c7b7acb1bfb14a3ea2c41c17b72af12b",
      "bb4d6399905f4b1588e6d38263efcd05",
      "69cd426c9ecc4b619ef96166a5275214",
      "ba26a331fec94a299291525e743e100f",
      "39d46a489d774b2eac0237ccbd5d5931",
      "4795dbd4251043d1ae29fc0d8f37bdcb",
      "6163a0465db047f89ca7a560b34fee9b",
      "99b355c33c284a05a6870d8484b8b17d",
      "a2c07e6be50940bc9cc2a6b69438f1fc",
      "858d496c0e4e495baeb9615f075b0754",
      "5f8125b463dc4955b50934b76ab14a25",
      "25976705085f4f098f323acd1f6f7b7f",
      "b004abc8aa9f42f9b6d2de4ba0b67354",
      "7981b304c61c4910abf58f26b8778293",
      "99b5984b783f44aeaa2c43324b191245",
      "316cf25da6ea481b8d0185645882461f",
      "30585ce7fa5b4630b247a5baddaba8b5",
      "45928225523f4eaaa216dca34d79d8a9",
      "5d52bec01533444fa030e25633dd50a6",
      "19e2e13584ff4c15a9c3ab5272d9db0e",
      "53ade3afc8964580993a260823a3c1b5",
      "ee4629d6ef2d4827937d66616049d055",
      "8ec31306cb004ae98e6322259a89dbc8",
      "5d1b01e5d3a44040a36d0cea427b7342",
      "024ff1828364401589b43df4595c23db",
      "d59ccbaf90f84179a129edc0de206092",
      "25ed9dc6d04d44eba124c20543a17d7a",
      "8eef360df096408585578090576c42c3",
      "c7dadbec9cba46e098a5652ec55f3467",
      "49ac71a9ffa14ac2ac62a017ea8deacf",
      "167385656ab242a59463764f7d3f3fe3",
      "322273b38b71464fac0eb7b22920add8",
      "c2c0eed703ac4ec3b6643f3973443e88",
      "4356b24762be4de2937d390ffd20983d",
      "fadb39a3509e4832bb432dcb2f786663",
      "b3a9e5f716694a02a689643800adb9a5",
      "0d8a753c4a364fb4bccb177b195a516c",
      "303c3cb14a254afc86180d0b5f478dc9",
      "b581a174a90a442f8c94c0ffc1ed002c",
      "f0ac69d1825941aab99c9c87630c23e2",
      "bb030d945e4e4c299a8b97a0095eca02",
      "3a11a223e5244642848bfebf02995f56",
      "f9375ec84dea466b9ae15bd140550521",
      "0ee5bc4c4caa40dba53e0df76ec28363",
      "f30043d33c824519b4ad2f2a0765430d",
      "c57dadb319ec4f1f81b92dbdb77a63a0",
      "8f9effcd65ae4fa882493c58df2a2501",
      "3ad1659f25ba4f6c90edad0e12af47a5",
      "ab997c18d84740e9ab1fd2fa472a2b9d",
      "92f5433ed46544bbbb676ab4649a6518",
      "afede647ab214b92a6158f81d7af1b5b",
      "76b2922f2e1e42fd95c7ecf33e1251a7",
      "b42ab3eb8ca542639138921b1a385650",
      "32e2351b30af43c5bd283671329ac745",
      "6c893df7bf1a4fc5babe8993e52b9d46",
      "115a8e1e571f4438ba4810e79039362e",
      "805e1ea513334d5c9bbdc46dd4f3e5e8",
      "8fe4e5cc5772492fae5ab39391c3c9ac",
      "e3a16d0cdb104a4785f444c74839ed96",
      "81153f4c82e1497a987d30f838a0e122",
      "02bf282a56f7484e82b52c7c43f62adc",
      "352a5cb188544af1b369886780336c86",
      "7f649c3d7f3e45a5b4fd15df316c20d0",
      "804aff62c754412796526c9f401ae2c4",
      "d873eda2abca499d93b2eb461b2fb8f8",
      "fd7082b8c3444cf09c4055ebb9f6ffe8",
      "9b811973de5845e194bbb3a00603f4c2",
      "09d4403246274d3d86e1d95de928359b",
      "969a5ff9b36a4006b9644f1ef7e315d8",
      "5eea01557ef44a0081c8beabe4c0eda9",
      "32a2e47ffe5f4ffaba126b86c59f037a",
      "74eaee6788384b1e910f5467622cc94f",
      "adb435fa83734dfa985c525d416b3930"
     ]
    },
    "id": "TmdvH82vC-oU",
    "outputId": "09589f6e-9200-494f-b041-b074a65af4fe",
    "scrolled": true,
    "tags": []
   },
   "outputs": [
    {
     "data": {
      "application/vnd.jupyter.widget-view+json": {
       "model_id": "5b00ce449cab4c49887c359a98612b99",
       "version_major": 2,
       "version_minor": 0
      },
      "text/plain": [
       "  0%|          | 0/60 [00:00<?, ?it/s]"
      ]
     },
     "metadata": {},
     "output_type": "display_data"
    },
    {
     "data": {
      "application/vnd.jupyter.widget-view+json": {
       "model_id": "378288f8bcb44b75baf95a81d94440cd",
       "version_major": 2,
       "version_minor": 0
      },
      "text/plain": [
       "0it [00:00, ?it/s]"
      ]
     },
     "metadata": {},
     "output_type": "display_data"
    },
    {
     "name": "stdout",
     "output_type": "stream",
     "text": [
      "Saving improved model after Val Loss improved from inf to 0.00167\n",
      "Epoch: 0 | FT  | Train Loss: 0.00176 | Val Loss: 0.00167\n",
      "Epoch: 0 | Amp | Train Loss: 0.0312 | Val Loss: 0.02590\n",
      "Epoch: 0 | Ph  | Train Loss: 0.070 | Val Loss: 0.04317\n",
      "Epoch: 0 | SW Thresh: 0.0700\n",
      "Epoch: 0 | Ending LR: 0.000667\n"
     ]
    },
    {
     "data": {
      "application/vnd.jupyter.widget-view+json": {
       "model_id": "4caef03465814d449136d41f3e41039f",
       "version_major": 2,
       "version_minor": 0
      },
      "text/plain": [
       "0it [00:00, ?it/s]"
      ]
     },
     "metadata": {},
     "output_type": "display_data"
    },
    {
     "name": "stdout",
     "output_type": "stream",
     "text": [
      "Saving improved model after Val Loss improved from 0.00167 to 0.00150\n",
      "Epoch: 1 | FT  | Train Loss: 0.00148 | Val Loss: 0.00150\n",
      "Epoch: 1 | Amp | Train Loss: 0.0229 | Val Loss: 0.02263\n",
      "Epoch: 1 | Ph  | Train Loss: 0.033 | Val Loss: 0.03329\n",
      "Epoch: 1 | SW Thresh: 0.0705\n",
      "Epoch: 1 | Ending LR: 0.000933\n"
     ]
    },
    {
     "data": {
      "application/vnd.jupyter.widget-view+json": {
       "model_id": "23be8483183a49c4978956b14b6fba3f",
       "version_major": 2,
       "version_minor": 0
      },
      "text/plain": [
       "0it [00:00, ?it/s]"
      ]
     },
     "metadata": {},
     "output_type": "display_data"
    },
    {
     "name": "stdout",
     "output_type": "stream",
     "text": [
      "Saving improved model after Val Loss improved from 0.00150 to 0.00148\n",
      "Epoch: 2 | FT  | Train Loss: 0.00143 | Val Loss: 0.00148\n",
      "Epoch: 2 | Amp | Train Loss: 0.0226 | Val Loss: 0.02179\n",
      "Epoch: 2 | Ph  | Train Loss: 0.030 | Val Loss: 0.03120\n",
      "Epoch: 2 | SW Thresh: 0.0710\n",
      "Epoch: 2 | Ending LR: 0.001200\n"
     ]
    },
    {
     "data": {
      "application/vnd.jupyter.widget-view+json": {
       "model_id": "e1bc43188cc64b8eb283a22b5121bb2a",
       "version_major": 2,
       "version_minor": 0
      },
      "text/plain": [
       "0it [00:00, ?it/s]"
      ]
     },
     "metadata": {},
     "output_type": "display_data"
    },
    {
     "name": "stdout",
     "output_type": "stream",
     "text": [
      "Epoch: 3 | FT  | Train Loss: 0.00140 | Val Loss: 0.00149\n",
      "Epoch: 3 | Amp | Train Loss: 0.0223 | Val Loss: 0.02295\n",
      "Epoch: 3 | Ph  | Train Loss: 0.029 | Val Loss: 0.03066\n",
      "Epoch: 3 | SW Thresh: 0.0715\n",
      "Epoch: 3 | Ending LR: 0.001467\n"
     ]
    },
    {
     "data": {
      "application/vnd.jupyter.widget-view+json": {
       "model_id": "0c8ce66680f448b7993c7e3825181ca9",
       "version_major": 2,
       "version_minor": 0
      },
      "text/plain": [
       "0it [00:00, ?it/s]"
      ]
     },
     "metadata": {},
     "output_type": "display_data"
    },
    {
     "name": "stdout",
     "output_type": "stream",
     "text": [
      "Epoch: 4 | FT  | Train Loss: 0.00138 | Val Loss: 0.00149\n",
      "Epoch: 4 | Amp | Train Loss: 0.0218 | Val Loss: 0.02178\n",
      "Epoch: 4 | Ph  | Train Loss: 0.028 | Val Loss: 0.02690\n",
      "Epoch: 4 | SW Thresh: 0.0720\n",
      "Epoch: 4 | Ending LR: 0.001733\n"
     ]
    },
    {
     "data": {
      "application/vnd.jupyter.widget-view+json": {
       "model_id": "0df15bff868e4774aff0b0dd9d914ead",
       "version_major": 2,
       "version_minor": 0
      },
      "text/plain": [
       "0it [00:00, ?it/s]"
      ]
     },
     "metadata": {},
     "output_type": "display_data"
    },
    {
     "name": "stdout",
     "output_type": "stream",
     "text": [
      "Saving improved model after Val Loss improved from 0.00148 to 0.00143\n",
      "Epoch: 5 | FT  | Train Loss: 0.00136 | Val Loss: 0.00143\n",
      "Epoch: 5 | Amp | Train Loss: 0.0213 | Val Loss: 0.02173\n",
      "Epoch: 5 | Ph  | Train Loss: 0.027 | Val Loss: 0.02832\n",
      "Epoch: 5 | SW Thresh: 0.0725\n",
      "Epoch: 5 | Ending LR: 0.002000\n"
     ]
    },
    {
     "data": {
      "application/vnd.jupyter.widget-view+json": {
       "model_id": "dcb6b911fa0f491da89ace22214178b7",
       "version_major": 2,
       "version_minor": 0
      },
      "text/plain": [
       "0it [00:00, ?it/s]"
      ]
     },
     "metadata": {},
     "output_type": "display_data"
    },
    {
     "name": "stdout",
     "output_type": "stream",
     "text": [
      "Epoch: 6 | FT  | Train Loss: 0.00134 | Val Loss: 0.00146\n",
      "Epoch: 6 | Amp | Train Loss: 0.0205 | Val Loss: 0.02020\n",
      "Epoch: 6 | Ph  | Train Loss: 0.026 | Val Loss: 0.02794\n",
      "Epoch: 6 | SW Thresh: 0.0731\n",
      "Epoch: 6 | Ending LR: 0.001733\n"
     ]
    },
    {
     "data": {
      "application/vnd.jupyter.widget-view+json": {
       "model_id": "539ea735cb9541199e16012067713470",
       "version_major": 2,
       "version_minor": 0
      },
      "text/plain": [
       "0it [00:00, ?it/s]"
      ]
     },
     "metadata": {},
     "output_type": "display_data"
    },
    {
     "name": "stdout",
     "output_type": "stream",
     "text": [
      "Epoch: 7 | FT  | Train Loss: 0.00133 | Val Loss: 0.00148\n",
      "Epoch: 7 | Amp | Train Loss: 0.0191 | Val Loss: 0.02028\n",
      "Epoch: 7 | Ph  | Train Loss: 0.025 | Val Loss: 0.02844\n",
      "Epoch: 7 | SW Thresh: 0.0736\n",
      "Epoch: 7 | Ending LR: 0.001467\n"
     ]
    },
    {
     "data": {
      "application/vnd.jupyter.widget-view+json": {
       "model_id": "ecc773e87ae1473db2cc8151f0735b63",
       "version_major": 2,
       "version_minor": 0
      },
      "text/plain": [
       "0it [00:00, ?it/s]"
      ]
     },
     "metadata": {},
     "output_type": "display_data"
    },
    {
     "name": "stdout",
     "output_type": "stream",
     "text": [
      "Epoch: 8 | FT  | Train Loss: 0.00129 | Val Loss: 0.00155\n",
      "Epoch: 8 | Amp | Train Loss: 0.0163 | Val Loss: 0.01313\n",
      "Epoch: 8 | Ph  | Train Loss: 0.022 | Val Loss: 0.01867\n",
      "Epoch: 8 | SW Thresh: 0.0741\n",
      "Epoch: 8 | Ending LR: 0.001200\n"
     ]
    },
    {
     "data": {
      "application/vnd.jupyter.widget-view+json": {
       "model_id": "bbadbb97ecf64c0e96d6f81d578b266a",
       "version_major": 2,
       "version_minor": 0
      },
      "text/plain": [
       "0it [00:00, ?it/s]"
      ]
     },
     "metadata": {},
     "output_type": "display_data"
    },
    {
     "name": "stdout",
     "output_type": "stream",
     "text": [
      "Saving improved model after Val Loss improved from 0.00143 to 0.00134\n",
      "Epoch: 9 | FT  | Train Loss: 0.00127 | Val Loss: 0.00134\n",
      "Epoch: 9 | Amp | Train Loss: 0.0136 | Val Loss: 0.01301\n",
      "Epoch: 9 | Ph  | Train Loss: 0.020 | Val Loss: 0.02048\n",
      "Epoch: 9 | SW Thresh: 0.0746\n",
      "Epoch: 9 | Ending LR: 0.000933\n"
     ]
    },
    {
     "data": {
      "application/vnd.jupyter.widget-view+json": {
       "model_id": "c9139f0bc9264541b3509baaa11535db",
       "version_major": 2,
       "version_minor": 0
      },
      "text/plain": [
       "0it [00:00, ?it/s]"
      ]
     },
     "metadata": {},
     "output_type": "display_data"
    },
    {
     "name": "stdout",
     "output_type": "stream",
     "text": [
      "Epoch: 10 | FT  | Train Loss: 0.00124 | Val Loss: 0.00134\n",
      "Epoch: 10 | Amp | Train Loss: 0.0124 | Val Loss: 0.01327\n",
      "Epoch: 10 | Ph  | Train Loss: 0.020 | Val Loss: 0.02202\n",
      "Epoch: 10 | SW Thresh: 0.0751\n",
      "Epoch: 10 | Ending LR: 0.000667\n"
     ]
    },
    {
     "data": {
      "application/vnd.jupyter.widget-view+json": {
       "model_id": "fd9e6a85f019485bb8860062c83ad53b",
       "version_major": 2,
       "version_minor": 0
      },
      "text/plain": [
       "0it [00:00, ?it/s]"
      ]
     },
     "metadata": {},
     "output_type": "display_data"
    },
    {
     "name": "stdout",
     "output_type": "stream",
     "text": [
      "Saving improved model after Val Loss improved from 0.00134 to 0.00127\n",
      "Epoch: 11 | FT  | Train Loss: 0.00122 | Val Loss: 0.00127\n",
      "Epoch: 11 | Amp | Train Loss: 0.0132 | Val Loss: 0.01377\n",
      "Epoch: 11 | Ph  | Train Loss: 0.022 | Val Loss: 0.02303\n",
      "Epoch: 11 | SW Thresh: 0.0756\n",
      "Epoch: 11 | Ending LR: 0.000400\n"
     ]
    },
    {
     "data": {
      "application/vnd.jupyter.widget-view+json": {
       "model_id": "7df5a1bb65bf444b9da8fb1d8da2ac03",
       "version_major": 2,
       "version_minor": 0
      },
      "text/plain": [
       "0it [00:00, ?it/s]"
      ]
     },
     "metadata": {},
     "output_type": "display_data"
    },
    {
     "name": "stdout",
     "output_type": "stream",
     "text": [
      "Epoch: 12 | FT  | Train Loss: 0.00120 | Val Loss: 0.00131\n",
      "Epoch: 12 | Amp | Train Loss: 0.0140 | Val Loss: 0.01409\n",
      "Epoch: 12 | Ph  | Train Loss: 0.023 | Val Loss: 0.02363\n",
      "Epoch: 12 | SW Thresh: 0.0761\n",
      "Epoch: 12 | Ending LR: 0.000533\n"
     ]
    },
    {
     "data": {
      "application/vnd.jupyter.widget-view+json": {
       "model_id": "311d8b0522d1479bb95785b9b036956a",
       "version_major": 2,
       "version_minor": 0
      },
      "text/plain": [
       "0it [00:00, ?it/s]"
      ]
     },
     "metadata": {},
     "output_type": "display_data"
    },
    {
     "name": "stdout",
     "output_type": "stream",
     "text": [
      "Epoch: 13 | FT  | Train Loss: 0.00119 | Val Loss: 0.00132\n",
      "Epoch: 13 | Amp | Train Loss: 0.0146 | Val Loss: 0.01417\n",
      "Epoch: 13 | Ph  | Train Loss: 0.024 | Val Loss: 0.02460\n",
      "Epoch: 13 | SW Thresh: 0.0766\n",
      "Epoch: 13 | Ending LR: 0.000667\n"
     ]
    },
    {
     "data": {
      "application/vnd.jupyter.widget-view+json": {
       "model_id": "fce8d2df05294aaaa93503935a3d13a6",
       "version_major": 2,
       "version_minor": 0
      },
      "text/plain": [
       "0it [00:00, ?it/s]"
      ]
     },
     "metadata": {},
     "output_type": "display_data"
    },
    {
     "name": "stdout",
     "output_type": "stream",
     "text": [
      "Saving improved model after Val Loss improved from 0.00127 to 0.00126\n",
      "Epoch: 14 | FT  | Train Loss: 0.00119 | Val Loss: 0.00126\n",
      "Epoch: 14 | Amp | Train Loss: 0.0147 | Val Loss: 0.01510\n",
      "Epoch: 14 | Ph  | Train Loss: 0.024 | Val Loss: 0.02473\n",
      "Epoch: 14 | SW Thresh: 0.0771\n",
      "Epoch: 14 | Ending LR: 0.000800\n"
     ]
    },
    {
     "data": {
      "application/vnd.jupyter.widget-view+json": {
       "model_id": "a59f72ec30b14030a0656583fff01e2c",
       "version_major": 2,
       "version_minor": 0
      },
      "text/plain": [
       "0it [00:00, ?it/s]"
      ]
     },
     "metadata": {},
     "output_type": "display_data"
    },
    {
     "name": "stdout",
     "output_type": "stream",
     "text": [
      "Epoch: 15 | FT  | Train Loss: 0.00118 | Val Loss: 0.00132\n",
      "Epoch: 15 | Amp | Train Loss: 0.0148 | Val Loss: 0.01573\n",
      "Epoch: 15 | Ph  | Train Loss: 0.024 | Val Loss: 0.02547\n",
      "Epoch: 15 | SW Thresh: 0.0776\n",
      "Epoch: 15 | Ending LR: 0.000933\n"
     ]
    },
    {
     "data": {
      "application/vnd.jupyter.widget-view+json": {
       "model_id": "4422d328fd154ffd8a1e808650439180",
       "version_major": 2,
       "version_minor": 0
      },
      "text/plain": [
       "0it [00:00, ?it/s]"
      ]
     },
     "metadata": {},
     "output_type": "display_data"
    },
    {
     "name": "stdout",
     "output_type": "stream",
     "text": [
      "Epoch: 16 | FT  | Train Loss: 0.00118 | Val Loss: 0.00138\n",
      "Epoch: 16 | Amp | Train Loss: 0.0148 | Val Loss: 0.01467\n",
      "Epoch: 16 | Ph  | Train Loss: 0.024 | Val Loss: 0.02389\n",
      "Epoch: 16 | SW Thresh: 0.0781\n",
      "Epoch: 16 | Ending LR: 0.001067\n"
     ]
    },
    {
     "data": {
      "application/vnd.jupyter.widget-view+json": {
       "model_id": "3e238e0def0b499d879cff6228e6714d",
       "version_major": 2,
       "version_minor": 0
      },
      "text/plain": [
       "0it [00:00, ?it/s]"
      ]
     },
     "metadata": {},
     "output_type": "display_data"
    },
    {
     "name": "stdout",
     "output_type": "stream",
     "text": [
      "Epoch: 17 | FT  | Train Loss: 0.00117 | Val Loss: 0.00156\n",
      "Epoch: 17 | Amp | Train Loss: 0.0148 | Val Loss: 0.01470\n",
      "Epoch: 17 | Ph  | Train Loss: 0.024 | Val Loss: 0.02347\n",
      "Epoch: 17 | SW Thresh: 0.0786\n",
      "Epoch: 17 | Ending LR: 0.001200\n"
     ]
    },
    {
     "data": {
      "application/vnd.jupyter.widget-view+json": {
       "model_id": "08bdb49792ff4e6aad7cf861c8464cb2",
       "version_major": 2,
       "version_minor": 0
      },
      "text/plain": [
       "0it [00:00, ?it/s]"
      ]
     },
     "metadata": {},
     "output_type": "display_data"
    },
    {
     "name": "stdout",
     "output_type": "stream",
     "text": [
      "Epoch: 18 | FT  | Train Loss: 0.00116 | Val Loss: 0.00158\n",
      "Epoch: 18 | Amp | Train Loss: 0.0148 | Val Loss: 0.01651\n",
      "Epoch: 18 | Ph  | Train Loss: 0.024 | Val Loss: 0.02365\n",
      "Epoch: 18 | SW Thresh: 0.0792\n",
      "Epoch: 18 | Ending LR: 0.001067\n"
     ]
    },
    {
     "data": {
      "application/vnd.jupyter.widget-view+json": {
       "model_id": "0d6676c86f2045939459121bab0f25eb",
       "version_major": 2,
       "version_minor": 0
      },
      "text/plain": [
       "0it [00:00, ?it/s]"
      ]
     },
     "metadata": {},
     "output_type": "display_data"
    },
    {
     "name": "stdout",
     "output_type": "stream",
     "text": [
      "Epoch: 19 | FT  | Train Loss: 0.00113 | Val Loss: 0.00139\n",
      "Epoch: 19 | Amp | Train Loss: 0.0148 | Val Loss: 0.01509\n",
      "Epoch: 19 | Ph  | Train Loss: 0.024 | Val Loss: 0.02303\n",
      "Epoch: 19 | SW Thresh: 0.0797\n",
      "Epoch: 19 | Ending LR: 0.000933\n"
     ]
    },
    {
     "data": {
      "application/vnd.jupyter.widget-view+json": {
       "model_id": "7c0700a1f2a547c3bb9346c400c70b5a",
       "version_major": 2,
       "version_minor": 0
      },
      "text/plain": [
       "0it [00:00, ?it/s]"
      ]
     },
     "metadata": {},
     "output_type": "display_data"
    },
    {
     "name": "stdout",
     "output_type": "stream",
     "text": [
      "Saving improved model after Val Loss improved from 0.00126 to 0.00123\n",
      "Epoch: 20 | FT  | Train Loss: 0.00111 | Val Loss: 0.00123\n",
      "Epoch: 20 | Amp | Train Loss: 0.0148 | Val Loss: 0.01467\n",
      "Epoch: 20 | Ph  | Train Loss: 0.024 | Val Loss: 0.02279\n",
      "Epoch: 20 | SW Thresh: 0.0802\n",
      "Epoch: 20 | Ending LR: 0.000800\n"
     ]
    },
    {
     "data": {
      "application/vnd.jupyter.widget-view+json": {
       "model_id": "0cf71fe62d6f4a1eb5e47606e0985fe2",
       "version_major": 2,
       "version_minor": 0
      },
      "text/plain": [
       "0it [00:00, ?it/s]"
      ]
     },
     "metadata": {},
     "output_type": "display_data"
    },
    {
     "name": "stdout",
     "output_type": "stream",
     "text": [
      "Saving improved model after Val Loss improved from 0.00123 to 0.00118\n",
      "Epoch: 21 | FT  | Train Loss: 0.00109 | Val Loss: 0.00118\n",
      "Epoch: 21 | Amp | Train Loss: 0.0148 | Val Loss: 0.01508\n",
      "Epoch: 21 | Ph  | Train Loss: 0.023 | Val Loss: 0.02440\n",
      "Epoch: 21 | SW Thresh: 0.0807\n",
      "Epoch: 21 | Ending LR: 0.000667\n"
     ]
    },
    {
     "data": {
      "application/vnd.jupyter.widget-view+json": {
       "model_id": "efbaa4c7858745d8b9b2cb47033cbecc",
       "version_major": 2,
       "version_minor": 0
      },
      "text/plain": [
       "0it [00:00, ?it/s]"
      ]
     },
     "metadata": {},
     "output_type": "display_data"
    },
    {
     "name": "stdout",
     "output_type": "stream",
     "text": [
      "Epoch: 22 | FT  | Train Loss: 0.00107 | Val Loss: 0.00120\n",
      "Epoch: 22 | Amp | Train Loss: 0.0148 | Val Loss: 0.01525\n",
      "Epoch: 22 | Ph  | Train Loss: 0.023 | Val Loss: 0.02354\n",
      "Epoch: 22 | SW Thresh: 0.0812\n",
      "Epoch: 22 | Ending LR: 0.000533\n"
     ]
    },
    {
     "data": {
      "application/vnd.jupyter.widget-view+json": {
       "model_id": "1418b3174a5c40d8a9e3557a2164d569",
       "version_major": 2,
       "version_minor": 0
      },
      "text/plain": [
       "0it [00:00, ?it/s]"
      ]
     },
     "metadata": {},
     "output_type": "display_data"
    },
    {
     "name": "stdout",
     "output_type": "stream",
     "text": [
      "Saving improved model after Val Loss improved from 0.00118 to 0.00116\n",
      "Epoch: 23 | FT  | Train Loss: 0.00105 | Val Loss: 0.00116\n",
      "Epoch: 23 | Amp | Train Loss: 0.0148 | Val Loss: 0.01479\n",
      "Epoch: 23 | Ph  | Train Loss: 0.023 | Val Loss: 0.02396\n",
      "Epoch: 23 | SW Thresh: 0.0817\n",
      "Epoch: 23 | Ending LR: 0.000400\n"
     ]
    },
    {
     "data": {
      "application/vnd.jupyter.widget-view+json": {
       "model_id": "03bfd80a17c947ad9482cdfd3125b0fe",
       "version_major": 2,
       "version_minor": 0
      },
      "text/plain": [
       "0it [00:00, ?it/s]"
      ]
     },
     "metadata": {},
     "output_type": "display_data"
    },
    {
     "name": "stdout",
     "output_type": "stream",
     "text": [
      "Saving improved model after Val Loss improved from 0.00116 to 0.00115\n",
      "Epoch: 24 | FT  | Train Loss: 0.00104 | Val Loss: 0.00115\n",
      "Epoch: 24 | Amp | Train Loss: 0.0148 | Val Loss: 0.01503\n",
      "Epoch: 24 | Ph  | Train Loss: 0.023 | Val Loss: 0.02369\n",
      "Epoch: 24 | SW Thresh: 0.0822\n",
      "Epoch: 24 | Ending LR: 0.000467\n"
     ]
    },
    {
     "data": {
      "application/vnd.jupyter.widget-view+json": {
       "model_id": "454f42f60cf64f669a57f607b443d226",
       "version_major": 2,
       "version_minor": 0
      },
      "text/plain": [
       "0it [00:00, ?it/s]"
      ]
     },
     "metadata": {},
     "output_type": "display_data"
    },
    {
     "name": "stdout",
     "output_type": "stream",
     "text": [
      "Epoch: 25 | FT  | Train Loss: 0.00104 | Val Loss: 0.00115\n",
      "Epoch: 25 | Amp | Train Loss: 0.0148 | Val Loss: 0.01503\n",
      "Epoch: 25 | Ph  | Train Loss: 0.023 | Val Loss: 0.02370\n",
      "Epoch: 25 | SW Thresh: 0.0827\n",
      "Epoch: 25 | Ending LR: 0.000533\n"
     ]
    },
    {
     "data": {
      "application/vnd.jupyter.widget-view+json": {
       "model_id": "b94ebcf9bddb4dfb89c9c1e3dda5e5d2",
       "version_major": 2,
       "version_minor": 0
      },
      "text/plain": [
       "0it [00:00, ?it/s]"
      ]
     },
     "metadata": {},
     "output_type": "display_data"
    },
    {
     "name": "stdout",
     "output_type": "stream",
     "text": [
      "Epoch: 26 | FT  | Train Loss: 0.00104 | Val Loss: 0.00115\n",
      "Epoch: 26 | Amp | Train Loss: 0.0148 | Val Loss: 0.01501\n",
      "Epoch: 26 | Ph  | Train Loss: 0.023 | Val Loss: 0.02387\n",
      "Epoch: 26 | SW Thresh: 0.0832\n",
      "Epoch: 26 | Ending LR: 0.000600\n"
     ]
    },
    {
     "data": {
      "application/vnd.jupyter.widget-view+json": {
       "model_id": "cbce8277ab664ee7ac86b1bbec3a26a2",
       "version_major": 2,
       "version_minor": 0
      },
      "text/plain": [
       "0it [00:00, ?it/s]"
      ]
     },
     "metadata": {},
     "output_type": "display_data"
    },
    {
     "name": "stdout",
     "output_type": "stream",
     "text": [
      "Epoch: 27 | FT  | Train Loss: 0.00104 | Val Loss: 0.00120\n",
      "Epoch: 27 | Amp | Train Loss: 0.0148 | Val Loss: 0.01470\n",
      "Epoch: 27 | Ph  | Train Loss: 0.023 | Val Loss: 0.02327\n",
      "Epoch: 27 | SW Thresh: 0.0837\n",
      "Epoch: 27 | Ending LR: 0.000667\n"
     ]
    },
    {
     "data": {
      "application/vnd.jupyter.widget-view+json": {
       "model_id": "dfb246ec2da54baab26bdf3b6e3e5c69",
       "version_major": 2,
       "version_minor": 0
      },
      "text/plain": [
       "0it [00:00, ?it/s]"
      ]
     },
     "metadata": {},
     "output_type": "display_data"
    },
    {
     "name": "stdout",
     "output_type": "stream",
     "text": [
      "Epoch: 28 | FT  | Train Loss: 0.00103 | Val Loss: 0.00117\n",
      "Epoch: 28 | Amp | Train Loss: 0.0148 | Val Loss: 0.01503\n",
      "Epoch: 28 | Ph  | Train Loss: 0.023 | Val Loss: 0.02325\n",
      "Epoch: 28 | SW Thresh: 0.0842\n",
      "Epoch: 28 | Ending LR: 0.000733\n"
     ]
    },
    {
     "data": {
      "application/vnd.jupyter.widget-view+json": {
       "model_id": "91369950453e46e7bc51a832ec6848a8",
       "version_major": 2,
       "version_minor": 0
      },
      "text/plain": [
       "0it [00:00, ?it/s]"
      ]
     },
     "metadata": {},
     "output_type": "display_data"
    },
    {
     "name": "stdout",
     "output_type": "stream",
     "text": [
      "Epoch: 29 | FT  | Train Loss: 0.00103 | Val Loss: 0.00120\n",
      "Epoch: 29 | Amp | Train Loss: 0.0148 | Val Loss: 0.01546\n",
      "Epoch: 29 | Ph  | Train Loss: 0.023 | Val Loss: 0.02426\n",
      "Epoch: 29 | SW Thresh: 0.0847\n",
      "Epoch: 29 | Ending LR: 0.000800\n"
     ]
    },
    {
     "data": {
      "application/vnd.jupyter.widget-view+json": {
       "model_id": "dd715b965ee7407ba924a7499252c7db",
       "version_major": 2,
       "version_minor": 0
      },
      "text/plain": [
       "0it [00:00, ?it/s]"
      ]
     },
     "metadata": {},
     "output_type": "display_data"
    },
    {
     "name": "stdout",
     "output_type": "stream",
     "text": [
      "Epoch: 30 | FT  | Train Loss: 0.00103 | Val Loss: 0.00121\n",
      "Epoch: 30 | Amp | Train Loss: 0.0148 | Val Loss: 0.01507\n",
      "Epoch: 30 | Ph  | Train Loss: 0.023 | Val Loss: 0.02387\n",
      "Epoch: 30 | SW Thresh: 0.0853\n",
      "Epoch: 30 | Ending LR: 0.000733\n"
     ]
    },
    {
     "data": {
      "application/vnd.jupyter.widget-view+json": {
       "model_id": "dfc8cda016d34752be03a0500200e953",
       "version_major": 2,
       "version_minor": 0
      },
      "text/plain": [
       "0it [00:00, ?it/s]"
      ]
     },
     "metadata": {},
     "output_type": "display_data"
    },
    {
     "name": "stdout",
     "output_type": "stream",
     "text": [
      "Epoch: 31 | FT  | Train Loss: 0.00104 | Val Loss: 0.00119\n",
      "Epoch: 31 | Amp | Train Loss: 0.0148 | Val Loss: 0.01532\n",
      "Epoch: 31 | Ph  | Train Loss: 0.023 | Val Loss: 0.02375\n",
      "Epoch: 31 | SW Thresh: 0.0858\n",
      "Epoch: 31 | Ending LR: 0.000667\n"
     ]
    },
    {
     "data": {
      "application/vnd.jupyter.widget-view+json": {
       "model_id": "1dc55e26c4984ee7b78409910b90f006",
       "version_major": 2,
       "version_minor": 0
      },
      "text/plain": [
       "0it [00:00, ?it/s]"
      ]
     },
     "metadata": {},
     "output_type": "display_data"
    },
    {
     "name": "stdout",
     "output_type": "stream",
     "text": [
      "Saving improved model after Val Loss improved from 0.00115 to 0.00114\n",
      "Epoch: 32 | FT  | Train Loss: 0.00102 | Val Loss: 0.00114\n",
      "Epoch: 32 | Amp | Train Loss: 0.0149 | Val Loss: 0.01495\n",
      "Epoch: 32 | Ph  | Train Loss: 0.023 | Val Loss: 0.02298\n",
      "Epoch: 32 | SW Thresh: 0.0863\n",
      "Epoch: 32 | Ending LR: 0.000600\n"
     ]
    },
    {
     "data": {
      "application/vnd.jupyter.widget-view+json": {
       "model_id": "c38adbcbff534dd6911db7e1ef234baf",
       "version_major": 2,
       "version_minor": 0
      },
      "text/plain": [
       "0it [00:00, ?it/s]"
      ]
     },
     "metadata": {},
     "output_type": "display_data"
    },
    {
     "name": "stdout",
     "output_type": "stream",
     "text": [
      "Saving improved model after Val Loss improved from 0.00114 to 0.00111\n",
      "Epoch: 33 | FT  | Train Loss: 0.00100 | Val Loss: 0.00111\n",
      "Epoch: 33 | Amp | Train Loss: 0.0148 | Val Loss: 0.01513\n",
      "Epoch: 33 | Ph  | Train Loss: 0.023 | Val Loss: 0.02371\n",
      "Epoch: 33 | SW Thresh: 0.0868\n",
      "Epoch: 33 | Ending LR: 0.000533\n"
     ]
    },
    {
     "data": {
      "application/vnd.jupyter.widget-view+json": {
       "model_id": "cab2f0802032404a859cd9d3c527a742",
       "version_major": 2,
       "version_minor": 0
      },
      "text/plain": [
       "0it [00:00, ?it/s]"
      ]
     },
     "metadata": {},
     "output_type": "display_data"
    },
    {
     "name": "stdout",
     "output_type": "stream",
     "text": [
      "Saving improved model after Val Loss improved from 0.00111 to 0.00110\n",
      "Epoch: 34 | FT  | Train Loss: 0.00098 | Val Loss: 0.00110\n",
      "Epoch: 34 | Amp | Train Loss: 0.0148 | Val Loss: 0.01495\n",
      "Epoch: 34 | Ph  | Train Loss: 0.023 | Val Loss: 0.02381\n",
      "Epoch: 34 | SW Thresh: 0.0873\n",
      "Epoch: 34 | Ending LR: 0.000467\n"
     ]
    },
    {
     "data": {
      "application/vnd.jupyter.widget-view+json": {
       "model_id": "8106917297e646a48c1e5f08537f61cb",
       "version_major": 2,
       "version_minor": 0
      },
      "text/plain": [
       "0it [00:00, ?it/s]"
      ]
     },
     "metadata": {},
     "output_type": "display_data"
    },
    {
     "name": "stdout",
     "output_type": "stream",
     "text": [
      "Saving improved model after Val Loss improved from 0.00110 to 0.00110\n",
      "Epoch: 35 | FT  | Train Loss: 0.00097 | Val Loss: 0.00110\n",
      "Epoch: 35 | Amp | Train Loss: 0.0148 | Val Loss: 0.01494\n",
      "Epoch: 35 | Ph  | Train Loss: 0.023 | Val Loss: 0.02352\n",
      "Epoch: 35 | SW Thresh: 0.0878\n",
      "Epoch: 35 | Ending LR: 0.000400\n"
     ]
    },
    {
     "data": {
      "application/vnd.jupyter.widget-view+json": {
       "model_id": "3ce13cea5edd4f62a3b074d43f9cab8e",
       "version_major": 2,
       "version_minor": 0
      },
      "text/plain": [
       "0it [00:00, ?it/s]"
      ]
     },
     "metadata": {},
     "output_type": "display_data"
    },
    {
     "name": "stdout",
     "output_type": "stream",
     "text": [
      "Epoch: 36 | FT  | Train Loss: 0.00096 | Val Loss: 0.00110\n",
      "Epoch: 36 | Amp | Train Loss: 0.0148 | Val Loss: 0.01492\n",
      "Epoch: 36 | Ph  | Train Loss: 0.023 | Val Loss: 0.02388\n",
      "Epoch: 36 | SW Thresh: 0.0883\n",
      "Epoch: 36 | Ending LR: 0.000433\n"
     ]
    },
    {
     "data": {
      "application/vnd.jupyter.widget-view+json": {
       "model_id": "affac27ad6834da3821d157a24450e98",
       "version_major": 2,
       "version_minor": 0
      },
      "text/plain": [
       "0it [00:00, ?it/s]"
      ]
     },
     "metadata": {},
     "output_type": "display_data"
    },
    {
     "name": "stdout",
     "output_type": "stream",
     "text": [
      "Epoch: 37 | FT  | Train Loss: 0.00096 | Val Loss: 0.00117\n",
      "Epoch: 37 | Amp | Train Loss: 0.0148 | Val Loss: 0.01547\n",
      "Epoch: 37 | Ph  | Train Loss: 0.023 | Val Loss: 0.02365\n",
      "Epoch: 37 | SW Thresh: 0.0888\n",
      "Epoch: 37 | Ending LR: 0.000467\n"
     ]
    },
    {
     "data": {
      "application/vnd.jupyter.widget-view+json": {
       "model_id": "7e011f6c63e84c0695271ac90d445aa6",
       "version_major": 2,
       "version_minor": 0
      },
      "text/plain": [
       "0it [00:00, ?it/s]"
      ]
     },
     "metadata": {},
     "output_type": "display_data"
    },
    {
     "name": "stdout",
     "output_type": "stream",
     "text": [
      "Epoch: 38 | FT  | Train Loss: 0.00096 | Val Loss: 0.00111\n",
      "Epoch: 38 | Amp | Train Loss: 0.0148 | Val Loss: 0.01491\n",
      "Epoch: 38 | Ph  | Train Loss: 0.023 | Val Loss: 0.02338\n",
      "Epoch: 38 | SW Thresh: 0.0893\n",
      "Epoch: 38 | Ending LR: 0.000500\n"
     ]
    },
    {
     "data": {
      "application/vnd.jupyter.widget-view+json": {
       "model_id": "f04c0a58515047599151b1c82b995406",
       "version_major": 2,
       "version_minor": 0
      },
      "text/plain": [
       "0it [00:00, ?it/s]"
      ]
     },
     "metadata": {},
     "output_type": "display_data"
    },
    {
     "name": "stdout",
     "output_type": "stream",
     "text": [
      "Epoch: 39 | FT  | Train Loss: 0.00096 | Val Loss: 0.00113\n",
      "Epoch: 39 | Amp | Train Loss: 0.0148 | Val Loss: 0.01480\n",
      "Epoch: 39 | Ph  | Train Loss: 0.023 | Val Loss: 0.02314\n",
      "Epoch: 39 | SW Thresh: 0.0898\n",
      "Epoch: 39 | Ending LR: 0.000533\n"
     ]
    },
    {
     "data": {
      "application/vnd.jupyter.widget-view+json": {
       "model_id": "64cc33f381ff47328e9932b3297b09cd",
       "version_major": 2,
       "version_minor": 0
      },
      "text/plain": [
       "0it [00:00, ?it/s]"
      ]
     },
     "metadata": {},
     "output_type": "display_data"
    },
    {
     "name": "stdout",
     "output_type": "stream",
     "text": [
      "Epoch: 40 | FT  | Train Loss: 0.00118 | Val Loss: 0.00121\n",
      "Epoch: 40 | Amp | Train Loss: 0.0162 | Val Loss: 0.01634\n",
      "Epoch: 40 | Ph  | Train Loss: 0.025 | Val Loss: 0.02506\n",
      "Epoch: 40 | SW Thresh: 0.0903\n",
      "Epoch: 40 | Ending LR: 0.000567\n"
     ]
    },
    {
     "data": {
      "application/vnd.jupyter.widget-view+json": {
       "model_id": "806bfee702e249eaa246aae468782125",
       "version_major": 2,
       "version_minor": 0
      },
      "text/plain": [
       "0it [00:00, ?it/s]"
      ]
     },
     "metadata": {},
     "output_type": "display_data"
    },
    {
     "name": "stdout",
     "output_type": "stream",
     "text": [
      "Epoch: 41 | FT  | Train Loss: 0.00104 | Val Loss: 0.00113\n",
      "Epoch: 41 | Amp | Train Loss: 0.0152 | Val Loss: 0.01535\n",
      "Epoch: 41 | Ph  | Train Loss: 0.024 | Val Loss: 0.02350\n",
      "Epoch: 41 | SW Thresh: 0.0908\n",
      "Epoch: 41 | Ending LR: 0.000600\n"
     ]
    },
    {
     "data": {
      "application/vnd.jupyter.widget-view+json": {
       "model_id": "d9968f3982124a4eb3820334fc3c8f70",
       "version_major": 2,
       "version_minor": 0
      },
      "text/plain": [
       "0it [00:00, ?it/s]"
      ]
     },
     "metadata": {},
     "output_type": "display_data"
    },
    {
     "name": "stdout",
     "output_type": "stream",
     "text": [
      "Epoch: 42 | FT  | Train Loss: 0.00099 | Val Loss: 0.00112\n",
      "Epoch: 42 | Amp | Train Loss: 0.0149 | Val Loss: 0.01506\n",
      "Epoch: 42 | Ph  | Train Loss: 0.023 | Val Loss: 0.02366\n",
      "Epoch: 42 | SW Thresh: 0.0914\n",
      "Epoch: 42 | Ending LR: 0.000567\n"
     ]
    },
    {
     "data": {
      "application/vnd.jupyter.widget-view+json": {
       "model_id": "ae4bb362a4e3411c9a76d2631e3ebb77",
       "version_major": 2,
       "version_minor": 0
      },
      "text/plain": [
       "0it [00:00, ?it/s]"
      ]
     },
     "metadata": {},
     "output_type": "display_data"
    },
    {
     "name": "stdout",
     "output_type": "stream",
     "text": [
      "Epoch: 43 | FT  | Train Loss: 0.00096 | Val Loss: 0.00114\n",
      "Epoch: 43 | Amp | Train Loss: 0.0149 | Val Loss: 0.01513\n",
      "Epoch: 43 | Ph  | Train Loss: 0.023 | Val Loss: 0.02386\n",
      "Epoch: 43 | SW Thresh: 0.0919\n",
      "Epoch: 43 | Ending LR: 0.000533\n"
     ]
    },
    {
     "data": {
      "application/vnd.jupyter.widget-view+json": {
       "model_id": "9518b0d63d624195b252a7e450f4aee3",
       "version_major": 2,
       "version_minor": 0
      },
      "text/plain": [
       "0it [00:00, ?it/s]"
      ]
     },
     "metadata": {},
     "output_type": "display_data"
    },
    {
     "name": "stdout",
     "output_type": "stream",
     "text": [
      "Saving improved model after Val Loss improved from 0.00110 to 0.00110\n",
      "Epoch: 44 | FT  | Train Loss: 0.00095 | Val Loss: 0.00110\n",
      "Epoch: 44 | Amp | Train Loss: 0.0148 | Val Loss: 0.01500\n",
      "Epoch: 44 | Ph  | Train Loss: 0.023 | Val Loss: 0.02324\n",
      "Epoch: 44 | SW Thresh: 0.0924\n",
      "Epoch: 44 | Ending LR: 0.000500\n"
     ]
    },
    {
     "data": {
      "application/vnd.jupyter.widget-view+json": {
       "model_id": "7764ae1e6e06425f8e7e5d199f3952cf",
       "version_major": 2,
       "version_minor": 0
      },
      "text/plain": [
       "0it [00:00, ?it/s]"
      ]
     },
     "metadata": {},
     "output_type": "display_data"
    },
    {
     "name": "stdout",
     "output_type": "stream",
     "text": [
      "Epoch: 45 | FT  | Train Loss: 0.00094 | Val Loss: 0.00111\n",
      "Epoch: 45 | Amp | Train Loss: 0.0148 | Val Loss: 0.01485\n",
      "Epoch: 45 | Ph  | Train Loss: 0.023 | Val Loss: 0.02358\n",
      "Epoch: 45 | SW Thresh: 0.0929\n",
      "Epoch: 45 | Ending LR: 0.000467\n"
     ]
    },
    {
     "data": {
      "application/vnd.jupyter.widget-view+json": {
       "model_id": "c0d2da5df65f47a28e05d4a68f800c5b",
       "version_major": 2,
       "version_minor": 0
      },
      "text/plain": [
       "0it [00:00, ?it/s]"
      ]
     },
     "metadata": {},
     "output_type": "display_data"
    },
    {
     "name": "stdout",
     "output_type": "stream",
     "text": [
      "Saving improved model after Val Loss improved from 0.00110 to 0.00109\n",
      "Epoch: 46 | FT  | Train Loss: 0.00094 | Val Loss: 0.00109\n",
      "Epoch: 46 | Amp | Train Loss: 0.0148 | Val Loss: 0.01505\n",
      "Epoch: 46 | Ph  | Train Loss: 0.023 | Val Loss: 0.02364\n",
      "Epoch: 46 | SW Thresh: 0.0934\n",
      "Epoch: 46 | Ending LR: 0.000433\n"
     ]
    },
    {
     "data": {
      "application/vnd.jupyter.widget-view+json": {
       "model_id": "e4750aca0bfd4ada9e1bac7e31ec648a",
       "version_major": 2,
       "version_minor": 0
      },
      "text/plain": [
       "0it [00:00, ?it/s]"
      ]
     },
     "metadata": {},
     "output_type": "display_data"
    },
    {
     "name": "stdout",
     "output_type": "stream",
     "text": [
      "Epoch: 47 | FT  | Train Loss: 0.00093 | Val Loss: 0.00109\n",
      "Epoch: 47 | Amp | Train Loss: 0.0148 | Val Loss: 0.01508\n",
      "Epoch: 47 | Ph  | Train Loss: 0.023 | Val Loss: 0.02316\n",
      "Epoch: 47 | SW Thresh: 0.0939\n",
      "Epoch: 47 | Ending LR: 0.000400\n"
     ]
    },
    {
     "data": {
      "application/vnd.jupyter.widget-view+json": {
       "model_id": "61397e126b44456a87376377644ebcfa",
       "version_major": 2,
       "version_minor": 0
      },
      "text/plain": [
       "0it [00:00, ?it/s]"
      ]
     },
     "metadata": {},
     "output_type": "display_data"
    },
    {
     "name": "stdout",
     "output_type": "stream",
     "text": [
      "Epoch: 48 | FT  | Train Loss: 0.00093 | Val Loss: 0.00110\n",
      "Epoch: 48 | Amp | Train Loss: 0.0148 | Val Loss: 0.01493\n",
      "Epoch: 48 | Ph  | Train Loss: 0.023 | Val Loss: 0.02344\n",
      "Epoch: 48 | SW Thresh: 0.0944\n",
      "Epoch: 48 | Ending LR: 0.000417\n"
     ]
    },
    {
     "data": {
      "application/vnd.jupyter.widget-view+json": {
       "model_id": "a74b10a9b0554282a55d0794c8eac266",
       "version_major": 2,
       "version_minor": 0
      },
      "text/plain": [
       "0it [00:00, ?it/s]"
      ]
     },
     "metadata": {},
     "output_type": "display_data"
    },
    {
     "name": "stdout",
     "output_type": "stream",
     "text": [
      "Epoch: 49 | FT  | Train Loss: 0.00093 | Val Loss: 0.00109\n",
      "Epoch: 49 | Amp | Train Loss: 0.0148 | Val Loss: 0.01511\n",
      "Epoch: 49 | Ph  | Train Loss: 0.023 | Val Loss: 0.02339\n",
      "Epoch: 49 | SW Thresh: 0.0949\n",
      "Epoch: 49 | Ending LR: 0.000433\n"
     ]
    },
    {
     "data": {
      "application/vnd.jupyter.widget-view+json": {
       "model_id": "605b34ac90d04e4badd7466f9cb60e35",
       "version_major": 2,
       "version_minor": 0
      },
      "text/plain": [
       "0it [00:00, ?it/s]"
      ]
     },
     "metadata": {},
     "output_type": "display_data"
    },
    {
     "name": "stdout",
     "output_type": "stream",
     "text": [
      "Saving improved model after Val Loss improved from 0.00109 to 0.00109\n",
      "Epoch: 50 | FT  | Train Loss: 0.00092 | Val Loss: 0.00109\n",
      "Epoch: 50 | Amp | Train Loss: 0.0147 | Val Loss: 0.01500\n",
      "Epoch: 50 | Ph  | Train Loss: 0.023 | Val Loss: 0.02332\n",
      "Epoch: 50 | SW Thresh: 0.0954\n",
      "Epoch: 50 | Ending LR: 0.000450\n"
     ]
    },
    {
     "data": {
      "application/vnd.jupyter.widget-view+json": {
       "model_id": "288439f237484ea4bf11829fef4cbebb",
       "version_major": 2,
       "version_minor": 0
      },
      "text/plain": [
       "0it [00:00, ?it/s]"
      ]
     },
     "metadata": {},
     "output_type": "display_data"
    },
    {
     "name": "stdout",
     "output_type": "stream",
     "text": [
      "Epoch: 51 | FT  | Train Loss: 0.00092 | Val Loss: 0.00110\n",
      "Epoch: 51 | Amp | Train Loss: 0.0147 | Val Loss: 0.01510\n",
      "Epoch: 51 | Ph  | Train Loss: 0.023 | Val Loss: 0.02335\n",
      "Epoch: 51 | SW Thresh: 0.0959\n",
      "Epoch: 51 | Ending LR: 0.000467\n"
     ]
    },
    {
     "data": {
      "application/vnd.jupyter.widget-view+json": {
       "model_id": "45c360b8cd7e466789a6ccba847bc537",
       "version_major": 2,
       "version_minor": 0
      },
      "text/plain": [
       "0it [00:00, ?it/s]"
      ]
     },
     "metadata": {},
     "output_type": "display_data"
    },
    {
     "name": "stdout",
     "output_type": "stream",
     "text": [
      "Epoch: 52 | FT  | Train Loss: 0.00092 | Val Loss: 0.00112\n",
      "Epoch: 52 | Amp | Train Loss: 0.0147 | Val Loss: 0.01525\n",
      "Epoch: 52 | Ph  | Train Loss: 0.023 | Val Loss: 0.02435\n",
      "Epoch: 52 | SW Thresh: 0.0964\n",
      "Epoch: 52 | Ending LR: 0.000483\n"
     ]
    },
    {
     "data": {
      "application/vnd.jupyter.widget-view+json": {
       "model_id": "a28fbe82517a439d81a356c9c50eddcb",
       "version_major": 2,
       "version_minor": 0
      },
      "text/plain": [
       "0it [00:00, ?it/s]"
      ]
     },
     "metadata": {},
     "output_type": "display_data"
    },
    {
     "name": "stdout",
     "output_type": "stream",
     "text": [
      "Epoch: 53 | FT  | Train Loss: 0.00093 | Val Loss: 0.00113\n",
      "Epoch: 53 | Amp | Train Loss: 0.0147 | Val Loss: 0.01503\n",
      "Epoch: 53 | Ph  | Train Loss: 0.023 | Val Loss: 0.02336\n",
      "Epoch: 53 | SW Thresh: 0.0969\n",
      "Epoch: 53 | Ending LR: 0.000500\n"
     ]
    },
    {
     "data": {
      "application/vnd.jupyter.widget-view+json": {
       "model_id": "feccf48502ba43d285c5653522c34a59",
       "version_major": 2,
       "version_minor": 0
      },
      "text/plain": [
       "0it [00:00, ?it/s]"
      ]
     },
     "metadata": {},
     "output_type": "display_data"
    },
    {
     "name": "stdout",
     "output_type": "stream",
     "text": [
      "Epoch: 54 | FT  | Train Loss: 0.00092 | Val Loss: 0.00109\n",
      "Epoch: 54 | Amp | Train Loss: 0.0147 | Val Loss: 0.01500\n",
      "Epoch: 54 | Ph  | Train Loss: 0.023 | Val Loss: 0.02353\n",
      "Epoch: 54 | SW Thresh: 0.0975\n",
      "Epoch: 54 | Ending LR: 0.000483\n"
     ]
    },
    {
     "data": {
      "application/vnd.jupyter.widget-view+json": {
       "model_id": "dd9d67684fb54f4e92d9cfd79a24fd54",
       "version_major": 2,
       "version_minor": 0
      },
      "text/plain": [
       "0it [00:00, ?it/s]"
      ]
     },
     "metadata": {},
     "output_type": "display_data"
    },
    {
     "name": "stdout",
     "output_type": "stream",
     "text": [
      "Epoch: 55 | FT  | Train Loss: 0.00092 | Val Loss: 0.00109\n",
      "Epoch: 55 | Amp | Train Loss: 0.0147 | Val Loss: 0.01503\n",
      "Epoch: 55 | Ph  | Train Loss: 0.023 | Val Loss: 0.02384\n",
      "Epoch: 55 | SW Thresh: 0.0980\n",
      "Epoch: 55 | Ending LR: 0.000467\n"
     ]
    },
    {
     "data": {
      "application/vnd.jupyter.widget-view+json": {
       "model_id": "f3508280d48942929efcf5c34e802fdb",
       "version_major": 2,
       "version_minor": 0
      },
      "text/plain": [
       "0it [00:00, ?it/s]"
      ]
     },
     "metadata": {},
     "output_type": "display_data"
    },
    {
     "name": "stdout",
     "output_type": "stream",
     "text": [
      "Epoch: 56 | FT  | Train Loss: 0.00091 | Val Loss: 0.00111\n",
      "Epoch: 56 | Amp | Train Loss: 0.0147 | Val Loss: 0.01498\n",
      "Epoch: 56 | Ph  | Train Loss: 0.023 | Val Loss: 0.02426\n",
      "Epoch: 56 | SW Thresh: 0.0985\n",
      "Epoch: 56 | Ending LR: 0.000450\n"
     ]
    },
    {
     "data": {
      "application/vnd.jupyter.widget-view+json": {
       "model_id": "422ac359e69c40a1874d572387e2691f",
       "version_major": 2,
       "version_minor": 0
      },
      "text/plain": [
       "0it [00:00, ?it/s]"
      ]
     },
     "metadata": {},
     "output_type": "display_data"
    },
    {
     "name": "stdout",
     "output_type": "stream",
     "text": [
      "Saving improved model after Val Loss improved from 0.00109 to 0.00107\n",
      "Epoch: 57 | FT  | Train Loss: 0.00091 | Val Loss: 0.00107\n",
      "Epoch: 57 | Amp | Train Loss: 0.0147 | Val Loss: 0.01497\n",
      "Epoch: 57 | Ph  | Train Loss: 0.023 | Val Loss: 0.02383\n",
      "Epoch: 57 | SW Thresh: 0.0990\n",
      "Epoch: 57 | Ending LR: 0.000433\n"
     ]
    },
    {
     "data": {
      "application/vnd.jupyter.widget-view+json": {
       "model_id": "1b09c46b74004eed94855c5746769345",
       "version_major": 2,
       "version_minor": 0
      },
      "text/plain": [
       "0it [00:00, ?it/s]"
      ]
     },
     "metadata": {},
     "output_type": "display_data"
    },
    {
     "name": "stdout",
     "output_type": "stream",
     "text": [
      "Epoch: 58 | FT  | Train Loss: 0.00091 | Val Loss: 0.00111\n",
      "Epoch: 58 | Amp | Train Loss: 0.0147 | Val Loss: 0.01513\n",
      "Epoch: 58 | Ph  | Train Loss: 0.023 | Val Loss: 0.02337\n",
      "Epoch: 58 | SW Thresh: 0.0995\n",
      "Epoch: 58 | Ending LR: 0.000417\n"
     ]
    },
    {
     "data": {
      "application/vnd.jupyter.widget-view+json": {
       "model_id": "746a071348a64da78b849dc5a9ae9968",
       "version_major": 2,
       "version_minor": 0
      },
      "text/plain": [
       "0it [00:00, ?it/s]"
      ]
     },
     "metadata": {},
     "output_type": "display_data"
    },
    {
     "name": "stdout",
     "output_type": "stream",
     "text": [
      "Epoch: 59 | FT  | Train Loss: 0.00090 | Val Loss: 0.00109\n",
      "Epoch: 59 | Amp | Train Loss: 0.0147 | Val Loss: 0.01486\n",
      "Epoch: 59 | Ph  | Train Loss: 0.023 | Val Loss: 0.02323\n",
      "Epoch: 59 | SW Thresh: 0.1000\n",
      "Epoch: 59 | Ending LR: 0.000400\n"
     ]
    }
   ],
   "source": [
    "metrics = {'losses':[],'val_losses':[], 'lrs':[], 'best_val_loss' : np.inf}\n",
    "\n",
    "for epoch in tqdm(range(params.EPOCHS)):\n",
    "    \n",
    "    #Set model to train mode\n",
    "    model.train() \n",
    "\n",
    "    #Training loop\n",
    "    train(train_loader,metrics)\n",
    "\n",
    "    #Switch model to eval mode\n",
    "    model.eval()\n",
    "\n",
    "#     Validation loop\n",
    "    validate(validation_loader,metrics)\n",
    "    l = metrics['losses'][-1]\n",
    "    lv =  metrics['val_losses'][-1]\n",
    "\n",
    "    print(f'Epoch: {epoch} | FT  | Train Loss: {l[0]:.5f} | Val Loss: {lv[0]:.5f}')\n",
    "    print(f'Epoch: {epoch} | Amp | Train Loss: {l[1]:.4f} | Val Loss: {lv[1]:.5f}')\n",
    "    print(f'Epoch: {epoch} | Ph  | Train Loss: {l[2]:.3f} | Val Loss: {lv[2]:.5f}')\n",
    "    if NGPUS>1:\n",
    "        print(f'Epoch: {epoch} | SW Thresh: {model.module.sw_thresh:.4f}')\n",
    "    else:\n",
    "        print(f'Epoch: {epoch} | SW Thresh: {model.sw_thresh:.4f}')\n",
    "           \n",
    "    print(f'Epoch: {epoch} | Ending LR: {metrics[\"lrs\"][-1][0]:.6f}')\n",
    "\n",
    "    if(epoch>=(params.CONST_EPOCHS-1)): #Keep SW thresh =0 i.e fixed half box support for first N epochs\n",
    "        if NGPUS>1:\n",
    "            model.module.sw_thresh+=SW_INCREMENT #Update shrink-wrap threshold every epoch\n",
    "        else:\n",
    "            model.sw_thresh+=SW_INCREMENT #Update shrink-wrap threshold every epoch"
   ]
  },
  {
   "cell_type": "code",
   "execution_count": 15,
   "metadata": {
    "scrolled": true
   },
   "outputs": [
    {
     "data": {
      "text/plain": [
       "Text(0.5, 0, 'Epoch')"
      ]
     },
     "execution_count": 15,
     "metadata": {},
     "output_type": "execute_result"
    },
    {
     "data": {
      "image/png": "[encoded data removed]",
      "text/plain": [
       "<Figure size 640x480 with 1 Axes>"
      ]
     },
     "metadata": {},
     "output_type": "display_data"
    }
   ],
   "source": [
    "batches = np.linspace(0,len(metrics['lrs']),len(metrics['lrs'])+1)\n",
    "epoch_list = batches/iterations_per_epoch\n",
    "\n",
    "plt.plot(epoch_list[1:],metrics['lrs'], 'C3-')\n",
    "plt.grid()\n",
    "plt.ylabel(\"Learning rate\")\n",
    "plt.xlabel(\"Epoch\")"
   ]
  },
  {
   "cell_type": "code",
   "execution_count": 16,
   "metadata": {},
   "outputs": [
    {
     "data": {
      "text/plain": [
       "Text(0.5, 51.583333333333314, 'Epochs')"
      ]
     },
     "execution_count": 16,
     "metadata": {},
     "output_type": "execute_result"
    },
    {
     "data": {
      "image/png": "[encoded data removed]",
      "text/plain": [
       "<Figure size 1500x800 with 3 Axes>"
      ]
     },
     "metadata": {},
     "output_type": "display_data"
    }
   ],
   "source": [
    "losses_arr = np.array(metrics['losses'])\n",
    "val_losses_arr = np.array(metrics['val_losses'])\n",
    "losses_arr.shape\n",
    "fig, ax = plt.subplots(3,sharex=True, figsize=(15, 8))\n",
    "ax[0].plot(losses_arr[:,0], 'C3o-', label = \"Train FT loss\")\n",
    "ax[0].plot(val_losses_arr[:,0], 'C0o-', label = \"Val FT loss\")\n",
    "ax[0].set(ylabel='Loss')\n",
    "ax[0].grid()\n",
    "ax[0].legend(loc='center right', bbox_to_anchor=(1.5, 0.5))\n",
    "ax[1].plot(losses_arr[:,1], 'C3o-', label = \"Train Amp loss\")\n",
    "ax[1].plot(val_losses_arr[:,1], 'C0o-', label = \"Val Amp loss\")\n",
    "ax[1].set(ylabel='Loss')\n",
    "ax[1].grid()\n",
    "ax[1].legend(loc='center right', bbox_to_anchor=(1.5, 0.5))\n",
    "ax[2].plot(losses_arr[:,2], 'C3o-', label = \"Train Ph loss\")\n",
    "ax[2].plot(val_losses_arr[:,2], 'C0o-', label = \"Val Ph loss\")\n",
    "ax[2].set(ylabel='Loss')\n",
    "ax[2].grid()\n",
    "ax[2].legend(loc='center right', bbox_to_anchor=(1.5, 0.5))\n",
    "\n",
    "plt.tight_layout()\n",
    "plt.xlabel(\"Epochs\")\n"
   ]
  }
 ],
 "metadata": {
  "accelerator": "GPU",
  "colab": {
   "collapsed_sections": [],
   "name": "unsup_cdinn.ipynb",
   "provenance": []
  },
  "kernelspec": {
   "display_name": "HugFace3",
   "language": "python",
   "name": "python3"
  },
  "language_info": {
   "codemirror_mode": {
    "name": "ipython",
    "version": 3
   },
   "file_extension": ".py",
   "mimetype": "text/x-python",
   "name": "python",
   "nbconvert_exporter": "python",
   "pygments_lexer": "ipython3",
   "version": "3.11.5"
  },
  "widgets": {
   "application/vnd.jupyter.widget-state+json": {
    "024ff1828364401589b43df4595c23db": {
     "model_module": "@jupyter-widgets/base",
     "model_name": "LayoutModel",
     "state": {
      "_model_module": "@jupyter-widgets/base",
      "_model_module_version": "1.2.0",
      "_model_name": "LayoutModel",
      "_view_count": null,
      "_view_module": "@jupyter-widgets/base",
      "_view_module_version": "1.2.0",
      "_view_name": "LayoutView",
      "align_content": null,
      "align_items": null,
      "align_self": null,
      "border": null,
      "bottom": null,
      "display": null,
      "flex": null,
      "flex_flow": null,
      "grid_area": null,
      "grid_auto_columns": null,
      "grid_auto_flow": null,
      "grid_auto_rows": null,
      "grid_column": null,
      "grid_gap": null,
      "grid_row": null,
      "grid_template_areas": null,
      "grid_template_columns": null,
      "grid_template_rows": null,
      "height": null,
      "justify_content": null,
      "justify_items": null,
      "left": null,
      "margin": null,
      "max_height": null,
      "max_width": null,
      "min_height": null,
      "min_width": null,
      "object_fit": null,
      "object_position": null,
      "order": null,
      "overflow": null,
      "overflow_x": null,
      "overflow_y": null,
      "padding": null,
      "right": null,
      "top": null,
      "visibility": null,
      "width": null
     }
    },
    "02bf282a56f7484e82b52c7c43f62adc": {
     "model_module": "@jupyter-widgets/controls",
     "model_name": "HTMLModel",
     "state": {
      "_dom_classes": [],
      "_model_module": "@jupyter-widgets/controls",
      "_model_module_version": "1.5.0",
      "_model_name": "HTMLModel",
      "_view_count": null,
      "_view_module": "@jupyter-widgets/controls",
      "_view_module_version": "1.5.0",
      "_view_name": "HTMLView",
      "description": "",
      "description_tooltip": null,
      "layout": "IPY_MODEL_d873eda2abca499d93b2eb461b2fb8f8",
      "placeholder": "​",
      "style": "IPY_MODEL_804aff62c754412796526c9f401ae2c4",
      "value": " 250/? [00:55&lt;00:00,  4.49it/s]"
     }
    },
    "0985d6d3ec7945a1adaed47f459cf230": {
     "model_module": "@jupyter-widgets/base",
     "model_name": "LayoutModel",
     "state": {
      "_model_module": "@jupyter-widgets/base",
      "_model_module_version": "1.2.0",
      "_model_name": "LayoutModel",
      "_view_count": null,
      "_view_module": "@jupyter-widgets/base",
      "_view_module_version": "1.2.0",
      "_view_name": "LayoutView",
      "align_content": null,
      "align_items": null,
      "align_self": null,
      "border": null,
      "bottom": null,
      "display": null,
      "flex": null,
      "flex_flow": null,
      "grid_area": null,
      "grid_auto_columns": null,
      "grid_auto_flow": null,
      "grid_auto_rows": null,
      "grid_column": null,
      "grid_gap": null,
      "grid_row": null,
      "grid_template_areas": null,
      "grid_template_columns": null,
      "grid_template_rows": null,
      "height": null,
      "justify_content": null,
      "justify_items": null,
      "left": null,
      "margin": null,
      "max_height": null,
      "max_width": null,
      "min_height": null,
      "min_width": null,
      "object_fit": null,
      "object_position": null,
      "order": null,
      "overflow": null,
      "overflow_x": null,
      "overflow_y": null,
      "padding": null,
      "right": null,
      "top": null,
      "visibility": null,
      "width": null
     }
    },
    "09d4403246274d3d86e1d95de928359b": {
     "model_module": "@jupyter-widgets/controls",
     "model_name": "FloatProgressModel",
     "state": {
      "_dom_classes": [],
      "_model_module": "@jupyter-widgets/controls",
      "_model_module_version": "1.5.0",
      "_model_name": "FloatProgressModel",
      "_view_count": null,
      "_view_module": "@jupyter-widgets/controls",
      "_view_module_version": "1.5.0",
      "_view_name": "ProgressView",
      "bar_style": "success",
      "description": "",
      "description_tooltip": null,
      "layout": "IPY_MODEL_32a2e47ffe5f4ffaba126b86c59f037a",
      "max": 1,
      "min": 0,
      "orientation": "horizontal",
      "style": "IPY_MODEL_5eea01557ef44a0081c8beabe4c0eda9",
      "value": 1
     }
    },
    "0d8a753c4a364fb4bccb177b195a516c": {
     "model_module": "@jupyter-widgets/controls",
     "model_name": "HTMLModel",
     "state": {
      "_dom_classes": [],
      "_model_module": "@jupyter-widgets/controls",
      "_model_module_version": "1.5.0",
      "_model_name": "HTMLModel",
      "_view_count": null,
      "_view_module": "@jupyter-widgets/controls",
      "_view_module_version": "1.5.0",
      "_view_name": "HTMLView",
      "description": "",
      "description_tooltip": null,
      "layout": "IPY_MODEL_bb030d945e4e4c299a8b97a0095eca02",
      "placeholder": "​",
      "style": "IPY_MODEL_f0ac69d1825941aab99c9c87630c23e2",
      "value": " 250/? [00:04&lt;00:00, 58.92it/s]"
     }
    },
    "0ee5bc4c4caa40dba53e0df76ec28363": {
     "model_module": "@jupyter-widgets/controls",
     "model_name": "FloatProgressModel",
     "state": {
      "_dom_classes": [],
      "_model_module": "@jupyter-widgets/controls",
      "_model_module_version": "1.5.0",
      "_model_name": "FloatProgressModel",
      "_view_count": null,
      "_view_module": "@jupyter-widgets/controls",
      "_view_module_version": "1.5.0",
      "_view_name": "ProgressView",
      "bar_style": "success",
      "description": "",
      "description_tooltip": null,
      "layout": "IPY_MODEL_8f9effcd65ae4fa882493c58df2a2501",
      "max": 1,
      "min": 0,
      "orientation": "horizontal",
      "style": "IPY_MODEL_c57dadb319ec4f1f81b92dbdb77a63a0",
      "value": 1
     }
    },
    "115a8e1e571f4438ba4810e79039362e": {
     "model_module": "@jupyter-widgets/controls",
     "model_name": "DescriptionStyleModel",
     "state": {
      "_model_module": "@jupyter-widgets/controls",
      "_model_module_version": "1.5.0",
      "_model_name": "DescriptionStyleModel",
      "_view_count": null,
      "_view_module": "@jupyter-widgets/base",
      "_view_module_version": "1.2.0",
      "_view_name": "StyleView",
      "description_width": ""
     }
    },
    "167385656ab242a59463764f7d3f3fe3": {
     "model_module": "@jupyter-widgets/base",
     "model_name": "LayoutModel",
     "state": {
      "_model_module": "@jupyter-widgets/base",
      "_model_module_version": "1.2.0",
      "_model_name": "LayoutModel",
      "_view_count": null,
      "_view_module": "@jupyter-widgets/base",
      "_view_module_version": "1.2.0",
      "_view_name": "LayoutView",
      "align_content": null,
      "align_items": null,
      "align_self": null,
      "border": null,
      "bottom": null,
      "display": null,
      "flex": null,
      "flex_flow": null,
      "grid_area": null,
      "grid_auto_columns": null,
      "grid_auto_flow": null,
      "grid_auto_rows": null,
      "grid_column": null,
      "grid_gap": null,
      "grid_row": null,
      "grid_template_areas": null,
      "grid_template_columns": null,
      "grid_template_rows": null,
      "height": null,
      "justify_content": null,
      "justify_items": null,
      "left": null,
      "margin": null,
      "max_height": null,
      "max_width": null,
      "min_height": null,
      "min_width": null,
      "object_fit": null,
      "object_position": null,
      "order": null,
      "overflow": null,
      "overflow_x": null,
      "overflow_y": null,
      "padding": null,
      "right": null,
      "top": null,
      "visibility": null,
      "width": null
     }
    },
    "19e2e13584ff4c15a9c3ab5272d9db0e": {
     "model_module": "@jupyter-widgets/controls",
     "model_name": "FloatProgressModel",
     "state": {
      "_dom_classes": [],
      "_model_module": "@jupyter-widgets/controls",
      "_model_module_version": "1.5.0",
      "_model_name": "FloatProgressModel",
      "_view_count": null,
      "_view_module": "@jupyter-widgets/controls",
      "_view_module_version": "1.5.0",
      "_view_name": "ProgressView",
      "bar_style": "success",
      "description": "",
      "description_tooltip": null,
      "layout": "IPY_MODEL_8ec31306cb004ae98e6322259a89dbc8",
      "max": 1,
      "min": 0,
      "orientation": "horizontal",
      "style": "IPY_MODEL_ee4629d6ef2d4827937d66616049d055",
      "value": 1
     }
    },
    "1b670225b5ca4ce99984de10dcc684e3": {
     "model_module": "@jupyter-widgets/controls",
     "model_name": "FloatProgressModel",
     "state": {
      "_dom_classes": [],
      "_model_module": "@jupyter-widgets/controls",
      "_model_module_version": "1.5.0",
      "_model_name": "FloatProgressModel",
      "_view_count": null,
      "_view_module": "@jupyter-widgets/controls",
      "_view_module_version": "1.5.0",
      "_view_name": "ProgressView",
      "bar_style": "success",
      "description": "",
      "description_tooltip": null,
      "layout": "IPY_MODEL_0985d6d3ec7945a1adaed47f459cf230",
      "max": 1,
      "min": 0,
      "orientation": "horizontal",
      "style": "IPY_MODEL_7f2002b21bca4afdbfaa32893af58e7e",
      "value": 1
     }
    },
    "1e03b61d3f944de1a5a5d853260b4c66": {
     "model_module": "@jupyter-widgets/controls",
     "model_name": "HBoxModel",
     "state": {
      "_dom_classes": [],
      "_model_module": "@jupyter-widgets/controls",
      "_model_module_version": "1.5.0",
      "_model_name": "HBoxModel",
      "_view_count": null,
      "_view_module": "@jupyter-widgets/controls",
      "_view_module_version": "1.5.0",
      "_view_name": "HBoxView",
      "box_style": "",
      "children": [
       "IPY_MODEL_1b670225b5ca4ce99984de10dcc684e3",
       "IPY_MODEL_c322e7cb475040aabf23105fe9a9e56a"
      ],
      "layout": "IPY_MODEL_9800141673b449ed879fd0da9abc5a46"
     }
    },
    "25976705085f4f098f323acd1f6f7b7f": {
     "model_module": "@jupyter-widgets/controls",
     "model_name": "FloatProgressModel",
     "state": {
      "_dom_classes": [],
      "_model_module": "@jupyter-widgets/controls",
      "_model_module_version": "1.5.0",
      "_model_name": "FloatProgressModel",
      "_view_count": null,
      "_view_module": "@jupyter-widgets/controls",
      "_view_module_version": "1.5.0",
      "_view_name": "ProgressView",
      "bar_style": "success",
      "description": "",
      "description_tooltip": null,
      "layout": "IPY_MODEL_99b5984b783f44aeaa2c43324b191245",
      "max": 1,
      "min": 0,
      "orientation": "horizontal",
      "style": "IPY_MODEL_7981b304c61c4910abf58f26b8778293",
      "value": 1
     }
    },
    "25ed9dc6d04d44eba124c20543a17d7a": {
     "model_module": "@jupyter-widgets/base",
     "model_name": "LayoutModel",
     "state": {
      "_model_module": "@jupyter-widgets/base",
      "_model_module_version": "1.2.0",
      "_model_name": "LayoutModel",
      "_view_count": null,
      "_view_module": "@jupyter-widgets/base",
      "_view_module_version": "1.2.0",
      "_view_name": "LayoutView",
      "align_content": null,
      "align_items": null,
      "align_self": null,
      "border": null,
      "bottom": null,
      "display": null,
      "flex": null,
      "flex_flow": null,
      "grid_area": null,
      "grid_auto_columns": null,
      "grid_auto_flow": null,
      "grid_auto_rows": null,
      "grid_column": null,
      "grid_gap": null,
      "grid_row": null,
      "grid_template_areas": null,
      "grid_template_columns": null,
      "grid_template_rows": null,
      "height": null,
      "justify_content": null,
      "justify_items": null,
      "left": null,
      "margin": null,
      "max_height": null,
      "max_width": null,
      "min_height": null,
      "min_width": null,
      "object_fit": null,
      "object_position": null,
      "order": null,
      "overflow": null,
      "overflow_x": null,
      "overflow_y": null,
      "padding": null,
      "right": null,
      "top": null,
      "visibility": null,
      "width": null
     }
    },
    "303c3cb14a254afc86180d0b5f478dc9": {
     "model_module": "@jupyter-widgets/controls",
     "model_name": "ProgressStyleModel",
     "state": {
      "_model_module": "@jupyter-widgets/controls",
      "_model_module_version": "1.5.0",
      "_model_name": "ProgressStyleModel",
      "_view_count": null,
      "_view_module": "@jupyter-widgets/base",
      "_view_module_version": "1.2.0",
      "_view_name": "StyleView",
      "bar_color": null,
      "description_width": "initial"
     }
    },
    "30585ce7fa5b4630b247a5baddaba8b5": {
     "model_module": "@jupyter-widgets/base",
     "model_name": "LayoutModel",
     "state": {
      "_model_module": "@jupyter-widgets/base",
      "_model_module_version": "1.2.0",
      "_model_name": "LayoutModel",
      "_view_count": null,
      "_view_module": "@jupyter-widgets/base",
      "_view_module_version": "1.2.0",
      "_view_name": "LayoutView",
      "align_content": null,
      "align_items": null,
      "align_self": null,
      "border": null,
      "bottom": null,
      "display": null,
      "flex": null,
      "flex_flow": null,
      "grid_area": null,
      "grid_auto_columns": null,
      "grid_auto_flow": null,
      "grid_auto_rows": null,
      "grid_column": null,
      "grid_gap": null,
      "grid_row": null,
      "grid_template_areas": null,
      "grid_template_columns": null,
      "grid_template_rows": null,
      "height": null,
      "justify_content": null,
      "justify_items": null,
      "left": null,
      "margin": null,
      "max_height": null,
      "max_width": null,
      "min_height": null,
      "min_width": null,
      "object_fit": null,
      "object_position": null,
      "order": null,
      "overflow": null,
      "overflow_x": null,
      "overflow_y": null,
      "padding": null,
      "right": null,
      "top": null,
      "visibility": null,
      "width": null
     }
    },
    "316cf25da6ea481b8d0185645882461f": {
     "model_module": "@jupyter-widgets/controls",
     "model_name": "DescriptionStyleModel",
     "state": {
      "_model_module": "@jupyter-widgets/controls",
      "_model_module_version": "1.5.0",
      "_model_name": "DescriptionStyleModel",
      "_view_count": null,
      "_view_module": "@jupyter-widgets/base",
      "_view_module_version": "1.2.0",
      "_view_name": "StyleView",
      "description_width": ""
     }
    },
    "322273b38b71464fac0eb7b22920add8": {
     "model_module": "@jupyter-widgets/controls",
     "model_name": "DescriptionStyleModel",
     "state": {
      "_model_module": "@jupyter-widgets/controls",
      "_model_module_version": "1.5.0",
      "_model_name": "DescriptionStyleModel",
      "_view_count": null,
      "_view_module": "@jupyter-widgets/base",
      "_view_module_version": "1.2.0",
      "_view_name": "StyleView",
      "description_width": ""
     }
    },
    "32a2e47ffe5f4ffaba126b86c59f037a": {
     "model_module": "@jupyter-widgets/base",
     "model_name": "LayoutModel",
     "state": {
      "_model_module": "@jupyter-widgets/base",
      "_model_module_version": "1.2.0",
      "_model_name": "LayoutModel",
      "_view_count": null,
      "_view_module": "@jupyter-widgets/base",
      "_view_module_version": "1.2.0",
      "_view_name": "LayoutView",
      "align_content": null,
      "align_items": null,
      "align_self": null,
      "border": null,
      "bottom": null,
      "display": null,
      "flex": null,
      "flex_flow": null,
      "grid_area": null,
      "grid_auto_columns": null,
      "grid_auto_flow": null,
      "grid_auto_rows": null,
      "grid_column": null,
      "grid_gap": null,
      "grid_row": null,
      "grid_template_areas": null,
      "grid_template_columns": null,
      "grid_template_rows": null,
      "height": null,
      "justify_content": null,
      "justify_items": null,
      "left": null,
      "margin": null,
      "max_height": null,
      "max_width": null,
      "min_height": null,
      "min_width": null,
      "object_fit": null,
      "object_position": null,
      "order": null,
      "overflow": null,
      "overflow_x": null,
      "overflow_y": null,
      "padding": null,
      "right": null,
      "top": null,
      "visibility": null,
      "width": null
     }
    },
    "32e2351b30af43c5bd283671329ac745": {
     "model_module": "@jupyter-widgets/controls",
     "model_name": "ProgressStyleModel",
     "state": {
      "_model_module": "@jupyter-widgets/controls",
      "_model_module_version": "1.5.0",
      "_model_name": "ProgressStyleModel",
      "_view_count": null,
      "_view_module": "@jupyter-widgets/base",
      "_view_module_version": "1.2.0",
      "_view_name": "StyleView",
      "bar_color": null,
      "description_width": "initial"
     }
    },
    "352a5cb188544af1b369886780336c86": {
     "model_module": "@jupyter-widgets/controls",
     "model_name": "ProgressStyleModel",
     "state": {
      "_model_module": "@jupyter-widgets/controls",
      "_model_module_version": "1.5.0",
      "_model_name": "ProgressStyleModel",
      "_view_count": null,
      "_view_module": "@jupyter-widgets/base",
      "_view_module_version": "1.2.0",
      "_view_name": "StyleView",
      "bar_color": null,
      "description_width": "initial"
     }
    },
    "39d46a489d774b2eac0237ccbd5d5931": {
     "model_module": "@jupyter-widgets/controls",
     "model_name": "HTMLModel",
     "state": {
      "_dom_classes": [],
      "_model_module": "@jupyter-widgets/controls",
      "_model_module_version": "1.5.0",
      "_model_name": "HTMLModel",
      "_view_count": null,
      "_view_module": "@jupyter-widgets/controls",
      "_view_module_version": "1.5.0",
      "_view_name": "HTMLView",
      "description": "",
      "description_tooltip": null,
      "layout": "IPY_MODEL_a2c07e6be50940bc9cc2a6b69438f1fc",
      "placeholder": "​",
      "style": "IPY_MODEL_99b355c33c284a05a6870d8484b8b17d",
      "value": " 250/? [00:04&lt;00:00, 59.41it/s]"
     }
    },
    "3a11a223e5244642848bfebf02995f56": {
     "model_module": "@jupyter-widgets/controls",
     "model_name": "HBoxModel",
     "state": {
      "_dom_classes": [],
      "_model_module": "@jupyter-widgets/controls",
      "_model_module_version": "1.5.0",
      "_model_name": "HBoxModel",
      "_view_count": null,
      "_view_module": "@jupyter-widgets/controls",
      "_view_module_version": "1.5.0",
      "_view_name": "HBoxView",
      "box_style": "",
      "children": [
       "IPY_MODEL_0ee5bc4c4caa40dba53e0df76ec28363",
       "IPY_MODEL_f30043d33c824519b4ad2f2a0765430d"
      ],
      "layout": "IPY_MODEL_f9375ec84dea466b9ae15bd140550521"
     }
    },
    "3ad1659f25ba4f6c90edad0e12af47a5": {
     "model_module": "@jupyter-widgets/controls",
     "model_name": "DescriptionStyleModel",
     "state": {
      "_model_module": "@jupyter-widgets/controls",
      "_model_module_version": "1.5.0",
      "_model_name": "DescriptionStyleModel",
      "_view_count": null,
      "_view_module": "@jupyter-widgets/base",
      "_view_module_version": "1.2.0",
      "_view_name": "StyleView",
      "description_width": ""
     }
    },
    "4356b24762be4de2937d390ffd20983d": {
     "model_module": "@jupyter-widgets/controls",
     "model_name": "HBoxModel",
     "state": {
      "_dom_classes": [],
      "_model_module": "@jupyter-widgets/controls",
      "_model_module_version": "1.5.0",
      "_model_name": "HBoxModel",
      "_view_count": null,
      "_view_module": "@jupyter-widgets/controls",
      "_view_module_version": "1.5.0",
      "_view_name": "HBoxView",
      "box_style": "",
      "children": [
       "IPY_MODEL_b3a9e5f716694a02a689643800adb9a5",
       "IPY_MODEL_0d8a753c4a364fb4bccb177b195a516c"
      ],
      "layout": "IPY_MODEL_fadb39a3509e4832bb432dcb2f786663"
     }
    },
    "45928225523f4eaaa216dca34d79d8a9": {
     "model_module": "@jupyter-widgets/controls",
     "model_name": "HBoxModel",
     "state": {
      "_dom_classes": [],
      "_model_module": "@jupyter-widgets/controls",
      "_model_module_version": "1.5.0",
      "_model_name": "HBoxModel",
      "_view_count": null,
      "_view_module": "@jupyter-widgets/controls",
      "_view_module_version": "1.5.0",
      "_view_name": "HBoxView",
      "box_style": "",
      "children": [
       "IPY_MODEL_19e2e13584ff4c15a9c3ab5272d9db0e",
       "IPY_MODEL_53ade3afc8964580993a260823a3c1b5"
      ],
      "layout": "IPY_MODEL_5d52bec01533444fa030e25633dd50a6"
     }
    },
    "4795dbd4251043d1ae29fc0d8f37bdcb": {
     "model_module": "@jupyter-widgets/controls",
     "model_name": "ProgressStyleModel",
     "state": {
      "_model_module": "@jupyter-widgets/controls",
      "_model_module_version": "1.5.0",
      "_model_name": "ProgressStyleModel",
      "_view_count": null,
      "_view_module": "@jupyter-widgets/base",
      "_view_module_version": "1.2.0",
      "_view_name": "StyleView",
      "bar_color": null,
      "description_width": "initial"
     }
    },
    "49ac71a9ffa14ac2ac62a017ea8deacf": {
     "model_module": "@jupyter-widgets/controls",
     "model_name": "ProgressStyleModel",
     "state": {
      "_model_module": "@jupyter-widgets/controls",
      "_model_module_version": "1.5.0",
      "_model_name": "ProgressStyleModel",
      "_view_count": null,
      "_view_module": "@jupyter-widgets/base",
      "_view_module_version": "1.2.0",
      "_view_name": "StyleView",
      "bar_color": null,
      "description_width": "initial"
     }
    },
    "53ade3afc8964580993a260823a3c1b5": {
     "model_module": "@jupyter-widgets/controls",
     "model_name": "HTMLModel",
     "state": {
      "_dom_classes": [],
      "_model_module": "@jupyter-widgets/controls",
      "_model_module_version": "1.5.0",
      "_model_name": "HTMLModel",
      "_view_count": null,
      "_view_module": "@jupyter-widgets/controls",
      "_view_module_version": "1.5.0",
      "_view_name": "HTMLView",
      "description": "",
      "description_tooltip": null,
      "layout": "IPY_MODEL_024ff1828364401589b43df4595c23db",
      "placeholder": "​",
      "style": "IPY_MODEL_5d1b01e5d3a44040a36d0cea427b7342",
      "value": " 250/? [00:04&lt;00:00, 59.74it/s]"
     }
    },
    "5d1b01e5d3a44040a36d0cea427b7342": {
     "model_module": "@jupyter-widgets/controls",
     "model_name": "DescriptionStyleModel",
     "state": {
      "_model_module": "@jupyter-widgets/controls",
      "_model_module_version": "1.5.0",
      "_model_name": "DescriptionStyleModel",
      "_view_count": null,
      "_view_module": "@jupyter-widgets/base",
      "_view_module_version": "1.2.0",
      "_view_name": "StyleView",
      "description_width": ""
     }
    },
    "5d52bec01533444fa030e25633dd50a6": {
     "model_module": "@jupyter-widgets/base",
     "model_name": "LayoutModel",
     "state": {
      "_model_module": "@jupyter-widgets/base",
      "_model_module_version": "1.2.0",
      "_model_name": "LayoutModel",
      "_view_count": null,
      "_view_module": "@jupyter-widgets/base",
      "_view_module_version": "1.2.0",
      "_view_name": "LayoutView",
      "align_content": null,
      "align_items": null,
      "align_self": null,
      "border": null,
      "bottom": null,
      "display": null,
      "flex": null,
      "flex_flow": null,
      "grid_area": null,
      "grid_auto_columns": null,
      "grid_auto_flow": null,
      "grid_auto_rows": null,
      "grid_column": null,
      "grid_gap": null,
      "grid_row": null,
      "grid_template_areas": null,
      "grid_template_columns": null,
      "grid_template_rows": null,
      "height": null,
      "justify_content": null,
      "justify_items": null,
      "left": null,
      "margin": null,
      "max_height": null,
      "max_width": null,
      "min_height": null,
      "min_width": null,
      "object_fit": null,
      "object_position": null,
      "order": null,
      "overflow": null,
      "overflow_x": null,
      "overflow_y": null,
      "padding": null,
      "right": null,
      "top": null,
      "visibility": null,
      "width": null
     }
    },
    "5eea01557ef44a0081c8beabe4c0eda9": {
     "model_module": "@jupyter-widgets/controls",
     "model_name": "ProgressStyleModel",
     "state": {
      "_model_module": "@jupyter-widgets/controls",
      "_model_module_version": "1.5.0",
      "_model_name": "ProgressStyleModel",
      "_view_count": null,
      "_view_module": "@jupyter-widgets/base",
      "_view_module_version": "1.2.0",
      "_view_name": "StyleView",
      "bar_color": null,
      "description_width": "initial"
     }
    },
    "5f8125b463dc4955b50934b76ab14a25": {
     "model_module": "@jupyter-widgets/base",
     "model_name": "LayoutModel",
     "state": {
      "_model_module": "@jupyter-widgets/base",
      "_model_module_version": "1.2.0",
      "_model_name": "LayoutModel",
      "_view_count": null,
      "_view_module": "@jupyter-widgets/base",
      "_view_module_version": "1.2.0",
      "_view_name": "LayoutView",
      "align_content": null,
      "align_items": null,
      "align_self": null,
      "border": null,
      "bottom": null,
      "display": null,
      "flex": null,
      "flex_flow": null,
      "grid_area": null,
      "grid_auto_columns": null,
      "grid_auto_flow": null,
      "grid_auto_rows": null,
      "grid_column": null,
      "grid_gap": null,
      "grid_row": null,
      "grid_template_areas": null,
      "grid_template_columns": null,
      "grid_template_rows": null,
      "height": null,
      "justify_content": null,
      "justify_items": null,
      "left": null,
      "margin": null,
      "max_height": null,
      "max_width": null,
      "min_height": null,
      "min_width": null,
      "object_fit": null,
      "object_position": null,
      "order": null,
      "overflow": null,
      "overflow_x": null,
      "overflow_y": null,
      "padding": null,
      "right": null,
      "top": null,
      "visibility": null,
      "width": null
     }
    },
    "6163a0465db047f89ca7a560b34fee9b": {
     "model_module": "@jupyter-widgets/base",
     "model_name": "LayoutModel",
     "state": {
      "_model_module": "@jupyter-widgets/base",
      "_model_module_version": "1.2.0",
      "_model_name": "LayoutModel",
      "_view_count": null,
      "_view_module": "@jupyter-widgets/base",
      "_view_module_version": "1.2.0",
      "_view_name": "LayoutView",
      "align_content": null,
      "align_items": null,
      "align_self": null,
      "border": null,
      "bottom": null,
      "display": null,
      "flex": null,
      "flex_flow": null,
      "grid_area": null,
      "grid_auto_columns": null,
      "grid_auto_flow": null,
      "grid_auto_rows": null,
      "grid_column": null,
      "grid_gap": null,
      "grid_row": null,
      "grid_template_areas": null,
      "grid_template_columns": null,
      "grid_template_rows": null,
      "height": null,
      "justify_content": null,
      "justify_items": null,
      "left": null,
      "margin": null,
      "max_height": null,
      "max_width": null,
      "min_height": null,
      "min_width": null,
      "object_fit": null,
      "object_position": null,
      "order": null,
      "overflow": null,
      "overflow_x": null,
      "overflow_y": null,
      "padding": null,
      "right": null,
      "top": null,
      "visibility": null,
      "width": null
     }
    },
    "69cd426c9ecc4b619ef96166a5275214": {
     "model_module": "@jupyter-widgets/base",
     "model_name": "LayoutModel",
     "state": {
      "_model_module": "@jupyter-widgets/base",
      "_model_module_version": "1.2.0",
      "_model_name": "LayoutModel",
      "_view_count": null,
      "_view_module": "@jupyter-widgets/base",
      "_view_module_version": "1.2.0",
      "_view_name": "LayoutView",
      "align_content": null,
      "align_items": null,
      "align_self": null,
      "border": null,
      "bottom": null,
      "display": null,
      "flex": null,
      "flex_flow": null,
      "grid_area": null,
      "grid_auto_columns": null,
      "grid_auto_flow": null,
      "grid_auto_rows": null,
      "grid_column": null,
      "grid_gap": null,
      "grid_row": null,
      "grid_template_areas": null,
      "grid_template_columns": null,
      "grid_template_rows": null,
      "height": null,
      "justify_content": null,
      "justify_items": null,
      "left": null,
      "margin": null,
      "max_height": null,
      "max_width": null,
      "min_height": null,
      "min_width": null,
      "object_fit": null,
      "object_position": null,
      "order": null,
      "overflow": null,
      "overflow_x": null,
      "overflow_y": null,
      "padding": null,
      "right": null,
      "top": null,
      "visibility": null,
      "width": null
     }
    },
    "6c893df7bf1a4fc5babe8993e52b9d46": {
     "model_module": "@jupyter-widgets/base",
     "model_name": "LayoutModel",
     "state": {
      "_model_module": "@jupyter-widgets/base",
      "_model_module_version": "1.2.0",
      "_model_name": "LayoutModel",
      "_view_count": null,
      "_view_module": "@jupyter-widgets/base",
      "_view_module_version": "1.2.0",
      "_view_name": "LayoutView",
      "align_content": null,
      "align_items": null,
      "align_self": null,
      "border": null,
      "bottom": null,
      "display": null,
      "flex": null,
      "flex_flow": null,
      "grid_area": null,
      "grid_auto_columns": null,
      "grid_auto_flow": null,
      "grid_auto_rows": null,
      "grid_column": null,
      "grid_gap": null,
      "grid_row": null,
      "grid_template_areas": null,
      "grid_template_columns": null,
      "grid_template_rows": null,
      "height": null,
      "justify_content": null,
      "justify_items": null,
      "left": null,
      "margin": null,
      "max_height": null,
      "max_width": null,
      "min_height": null,
      "min_width": null,
      "object_fit": null,
      "object_position": null,
      "order": null,
      "overflow": null,
      "overflow_x": null,
      "overflow_y": null,
      "padding": null,
      "right": null,
      "top": null,
      "visibility": null,
      "width": null
     }
    },
    "74eaee6788384b1e910f5467622cc94f": {
     "model_module": "@jupyter-widgets/controls",
     "model_name": "DescriptionStyleModel",
     "state": {
      "_model_module": "@jupyter-widgets/controls",
      "_model_module_version": "1.5.0",
      "_model_name": "DescriptionStyleModel",
      "_view_count": null,
      "_view_module": "@jupyter-widgets/base",
      "_view_module_version": "1.2.0",
      "_view_name": "StyleView",
      "description_width": ""
     }
    },
    "76b2922f2e1e42fd95c7ecf33e1251a7": {
     "model_module": "@jupyter-widgets/controls",
     "model_name": "FloatProgressModel",
     "state": {
      "_dom_classes": [],
      "_model_module": "@jupyter-widgets/controls",
      "_model_module_version": "1.5.0",
      "_model_name": "FloatProgressModel",
      "_view_count": null,
      "_view_module": "@jupyter-widgets/controls",
      "_view_module_version": "1.5.0",
      "_view_name": "ProgressView",
      "bar_style": "success",
      "description": "",
      "description_tooltip": null,
      "layout": "IPY_MODEL_6c893df7bf1a4fc5babe8993e52b9d46",
      "max": 1,
      "min": 0,
      "orientation": "horizontal",
      "style": "IPY_MODEL_32e2351b30af43c5bd283671329ac745",
      "value": 1
     }
    },
    "7981b304c61c4910abf58f26b8778293": {
     "model_module": "@jupyter-widgets/controls",
     "model_name": "ProgressStyleModel",
     "state": {
      "_model_module": "@jupyter-widgets/controls",
      "_model_module_version": "1.5.0",
      "_model_name": "ProgressStyleModel",
      "_view_count": null,
      "_view_module": "@jupyter-widgets/base",
      "_view_module_version": "1.2.0",
      "_view_name": "StyleView",
      "bar_color": null,
      "description_width": "initial"
     }
    },
    "7f2002b21bca4afdbfaa32893af58e7e": {
     "model_module": "@jupyter-widgets/controls",
     "model_name": "ProgressStyleModel",
     "state": {
      "_model_module": "@jupyter-widgets/controls",
      "_model_module_version": "1.5.0",
      "_model_name": "ProgressStyleModel",
      "_view_count": null,
      "_view_module": "@jupyter-widgets/base",
      "_view_module_version": "1.2.0",
      "_view_name": "StyleView",
      "bar_color": null,
      "description_width": "initial"
     }
    },
    "7f649c3d7f3e45a5b4fd15df316c20d0": {
     "model_module": "@jupyter-widgets/base",
     "model_name": "LayoutModel",
     "state": {
      "_model_module": "@jupyter-widgets/base",
      "_model_module_version": "1.2.0",
      "_model_name": "LayoutModel",
      "_view_count": null,
      "_view_module": "@jupyter-widgets/base",
      "_view_module_version": "1.2.0",
      "_view_name": "LayoutView",
      "align_content": null,
      "align_items": null,
      "align_self": null,
      "border": null,
      "bottom": null,
      "display": null,
      "flex": null,
      "flex_flow": null,
      "grid_area": null,
      "grid_auto_columns": null,
      "grid_auto_flow": null,
      "grid_auto_rows": null,
      "grid_column": null,
      "grid_gap": null,
      "grid_row": null,
      "grid_template_areas": null,
      "grid_template_columns": null,
      "grid_template_rows": null,
      "height": null,
      "justify_content": null,
      "justify_items": null,
      "left": null,
      "margin": null,
      "max_height": null,
      "max_width": null,
      "min_height": null,
      "min_width": null,
      "object_fit": null,
      "object_position": null,
      "order": null,
      "overflow": null,
      "overflow_x": null,
      "overflow_y": null,
      "padding": null,
      "right": null,
      "top": null,
      "visibility": null,
      "width": null
     }
    },
    "804aff62c754412796526c9f401ae2c4": {
     "model_module": "@jupyter-widgets/controls",
     "model_name": "DescriptionStyleModel",
     "state": {
      "_model_module": "@jupyter-widgets/controls",
      "_model_module_version": "1.5.0",
      "_model_name": "DescriptionStyleModel",
      "_view_count": null,
      "_view_module": "@jupyter-widgets/base",
      "_view_module_version": "1.2.0",
      "_view_name": "StyleView",
      "description_width": ""
     }
    },
    "805e1ea513334d5c9bbdc46dd4f3e5e8": {
     "model_module": "@jupyter-widgets/base",
     "model_name": "LayoutModel",
     "state": {
      "_model_module": "@jupyter-widgets/base",
      "_model_module_version": "1.2.0",
      "_model_name": "LayoutModel",
      "_view_count": null,
      "_view_module": "@jupyter-widgets/base",
      "_view_module_version": "1.2.0",
      "_view_name": "LayoutView",
      "align_content": null,
      "align_items": null,
      "align_self": null,
      "border": null,
      "bottom": null,
      "display": null,
      "flex": null,
      "flex_flow": null,
      "grid_area": null,
      "grid_auto_columns": null,
      "grid_auto_flow": null,
      "grid_auto_rows": null,
      "grid_column": null,
      "grid_gap": null,
      "grid_row": null,
      "grid_template_areas": null,
      "grid_template_columns": null,
      "grid_template_rows": null,
      "height": null,
      "justify_content": null,
      "justify_items": null,
      "left": null,
      "margin": null,
      "max_height": null,
      "max_width": null,
      "min_height": null,
      "min_width": null,
      "object_fit": null,
      "object_position": null,
      "order": null,
      "overflow": null,
      "overflow_x": null,
      "overflow_y": null,
      "padding": null,
      "right": null,
      "top": null,
      "visibility": null,
      "width": null
     }
    },
    "81153f4c82e1497a987d30f838a0e122": {
     "model_module": "@jupyter-widgets/controls",
     "model_name": "FloatProgressModel",
     "state": {
      "_dom_classes": [],
      "_model_module": "@jupyter-widgets/controls",
      "_model_module_version": "1.5.0",
      "_model_name": "FloatProgressModel",
      "_view_count": null,
      "_view_module": "@jupyter-widgets/controls",
      "_view_module_version": "1.5.0",
      "_view_name": "ProgressView",
      "bar_style": "success",
      "description": "",
      "description_tooltip": null,
      "layout": "IPY_MODEL_7f649c3d7f3e45a5b4fd15df316c20d0",
      "max": 1,
      "min": 0,
      "orientation": "horizontal",
      "style": "IPY_MODEL_352a5cb188544af1b369886780336c86",
      "value": 1
     }
    },
    "858d496c0e4e495baeb9615f075b0754": {
     "model_module": "@jupyter-widgets/controls",
     "model_name": "HBoxModel",
     "state": {
      "_dom_classes": [],
      "_model_module": "@jupyter-widgets/controls",
      "_model_module_version": "1.5.0",
      "_model_name": "HBoxModel",
      "_view_count": null,
      "_view_module": "@jupyter-widgets/controls",
      "_view_module_version": "1.5.0",
      "_view_name": "HBoxView",
      "box_style": "",
      "children": [
       "IPY_MODEL_25976705085f4f098f323acd1f6f7b7f",
       "IPY_MODEL_b004abc8aa9f42f9b6d2de4ba0b67354"
      ],
      "layout": "IPY_MODEL_5f8125b463dc4955b50934b76ab14a25"
     }
    },
    "8ec31306cb004ae98e6322259a89dbc8": {
     "model_module": "@jupyter-widgets/base",
     "model_name": "LayoutModel",
     "state": {
      "_model_module": "@jupyter-widgets/base",
      "_model_module_version": "1.2.0",
      "_model_name": "LayoutModel",
      "_view_count": null,
      "_view_module": "@jupyter-widgets/base",
      "_view_module_version": "1.2.0",
      "_view_name": "LayoutView",
      "align_content": null,
      "align_items": null,
      "align_self": null,
      "border": null,
      "bottom": null,
      "display": null,
      "flex": null,
      "flex_flow": null,
      "grid_area": null,
      "grid_auto_columns": null,
      "grid_auto_flow": null,
      "grid_auto_rows": null,
      "grid_column": null,
      "grid_gap": null,
      "grid_row": null,
      "grid_template_areas": null,
      "grid_template_columns": null,
      "grid_template_rows": null,
      "height": null,
      "justify_content": null,
      "justify_items": null,
      "left": null,
      "margin": null,
      "max_height": null,
      "max_width": null,
      "min_height": null,
      "min_width": null,
      "object_fit": null,
      "object_position": null,
      "order": null,
      "overflow": null,
      "overflow_x": null,
      "overflow_y": null,
      "padding": null,
      "right": null,
      "top": null,
      "visibility": null,
      "width": null
     }
    },
    "8eef360df096408585578090576c42c3": {
     "model_module": "@jupyter-widgets/controls",
     "model_name": "FloatProgressModel",
     "state": {
      "_dom_classes": [],
      "_model_module": "@jupyter-widgets/controls",
      "_model_module_version": "1.5.0",
      "_model_name": "FloatProgressModel",
      "_view_count": null,
      "_view_module": "@jupyter-widgets/controls",
      "_view_module_version": "1.5.0",
      "_view_name": "ProgressView",
      "bar_style": "success",
      "description": "",
      "description_tooltip": null,
      "layout": "IPY_MODEL_167385656ab242a59463764f7d3f3fe3",
      "max": 1,
      "min": 0,
      "orientation": "horizontal",
      "style": "IPY_MODEL_49ac71a9ffa14ac2ac62a017ea8deacf",
      "value": 1
     }
    },
    "8f9effcd65ae4fa882493c58df2a2501": {
     "model_module": "@jupyter-widgets/base",
     "model_name": "LayoutModel",
     "state": {
      "_model_module": "@jupyter-widgets/base",
      "_model_module_version": "1.2.0",
      "_model_name": "LayoutModel",
      "_view_count": null,
      "_view_module": "@jupyter-widgets/base",
      "_view_module_version": "1.2.0",
      "_view_name": "LayoutView",
      "align_content": null,
      "align_items": null,
      "align_self": null,
      "border": null,
      "bottom": null,
      "display": null,
      "flex": null,
      "flex_flow": null,
      "grid_area": null,
      "grid_auto_columns": null,
      "grid_auto_flow": null,
      "grid_auto_rows": null,
      "grid_column": null,
      "grid_gap": null,
      "grid_row": null,
      "grid_template_areas": null,
      "grid_template_columns": null,
      "grid_template_rows": null,
      "height": null,
      "justify_content": null,
      "justify_items": null,
      "left": null,
      "margin": null,
      "max_height": null,
      "max_width": null,
      "min_height": null,
      "min_width": null,
      "object_fit": null,
      "object_position": null,
      "order": null,
      "overflow": null,
      "overflow_x": null,
      "overflow_y": null,
      "padding": null,
      "right": null,
      "top": null,
      "visibility": null,
      "width": null
     }
    },
    "8fe4e5cc5772492fae5ab39391c3c9ac": {
     "model_module": "@jupyter-widgets/controls",
     "model_name": "HBoxModel",
     "state": {
      "_dom_classes": [],
      "_model_module": "@jupyter-widgets/controls",
      "_model_module_version": "1.5.0",
      "_model_name": "HBoxModel",
      "_view_count": null,
      "_view_module": "@jupyter-widgets/controls",
      "_view_module_version": "1.5.0",
      "_view_name": "HBoxView",
      "box_style": "",
      "children": [
       "IPY_MODEL_81153f4c82e1497a987d30f838a0e122",
       "IPY_MODEL_02bf282a56f7484e82b52c7c43f62adc"
      ],
      "layout": "IPY_MODEL_e3a16d0cdb104a4785f444c74839ed96"
     }
    },
    "92f5433ed46544bbbb676ab4649a6518": {
     "model_module": "@jupyter-widgets/controls",
     "model_name": "HBoxModel",
     "state": {
      "_dom_classes": [],
      "_model_module": "@jupyter-widgets/controls",
      "_model_module_version": "1.5.0",
      "_model_name": "HBoxModel",
      "_view_count": null,
      "_view_module": "@jupyter-widgets/controls",
      "_view_module_version": "1.5.0",
      "_view_name": "HBoxView",
      "box_style": "",
      "children": [
       "IPY_MODEL_76b2922f2e1e42fd95c7ecf33e1251a7",
       "IPY_MODEL_b42ab3eb8ca542639138921b1a385650"
      ],
      "layout": "IPY_MODEL_afede647ab214b92a6158f81d7af1b5b"
     }
    },
    "969a5ff9b36a4006b9644f1ef7e315d8": {
     "model_module": "@jupyter-widgets/controls",
     "model_name": "HTMLModel",
     "state": {
      "_dom_classes": [],
      "_model_module": "@jupyter-widgets/controls",
      "_model_module_version": "1.5.0",
      "_model_name": "HTMLModel",
      "_view_count": null,
      "_view_module": "@jupyter-widgets/controls",
      "_view_module_version": "1.5.0",
      "_view_name": "HTMLView",
      "description": "",
      "description_tooltip": null,
      "layout": "IPY_MODEL_adb435fa83734dfa985c525d416b3930",
      "placeholder": "​",
      "style": "IPY_MODEL_74eaee6788384b1e910f5467622cc94f",
      "value": " 250/? [00:51&lt;00:00,  4.86it/s]"
     }
    },
    "9800141673b449ed879fd0da9abc5a46": {
     "model_module": "@jupyter-widgets/base",
     "model_name": "LayoutModel",
     "state": {
      "_model_module": "@jupyter-widgets/base",
      "_model_module_version": "1.2.0",
      "_model_name": "LayoutModel",
      "_view_count": null,
      "_view_module": "@jupyter-widgets/base",
      "_view_module_version": "1.2.0",
      "_view_name": "LayoutView",
      "align_content": null,
      "align_items": null,
      "align_self": null,
      "border": null,
      "bottom": null,
      "display": null,
      "flex": null,
      "flex_flow": null,
      "grid_area": null,
      "grid_auto_columns": null,
      "grid_auto_flow": null,
      "grid_auto_rows": null,
      "grid_column": null,
      "grid_gap": null,
      "grid_row": null,
      "grid_template_areas": null,
      "grid_template_columns": null,
      "grid_template_rows": null,
      "height": null,
      "justify_content": null,
      "justify_items": null,
      "left": null,
      "margin": null,
      "max_height": null,
      "max_width": null,
      "min_height": null,
      "min_width": null,
      "object_fit": null,
      "object_position": null,
      "order": null,
      "overflow": null,
      "overflow_x": null,
      "overflow_y": null,
      "padding": null,
      "right": null,
      "top": null,
      "visibility": null,
      "width": null
     }
    },
    "99b355c33c284a05a6870d8484b8b17d": {
     "model_module": "@jupyter-widgets/controls",
     "model_name": "DescriptionStyleModel",
     "state": {
      "_model_module": "@jupyter-widgets/controls",
      "_model_module_version": "1.5.0",
      "_model_name": "DescriptionStyleModel",
      "_view_count": null,
      "_view_module": "@jupyter-widgets/base",
      "_view_module_version": "1.2.0",
      "_view_name": "StyleView",
      "description_width": ""
     }
    },
    "99b5984b783f44aeaa2c43324b191245": {
     "model_module": "@jupyter-widgets/base",
     "model_name": "LayoutModel",
     "state": {
      "_model_module": "@jupyter-widgets/base",
      "_model_module_version": "1.2.0",
      "_model_name": "LayoutModel",
      "_view_count": null,
      "_view_module": "@jupyter-widgets/base",
      "_view_module_version": "1.2.0",
      "_view_name": "LayoutView",
      "align_content": null,
      "align_items": null,
      "align_self": null,
      "border": null,
      "bottom": null,
      "display": null,
      "flex": null,
      "flex_flow": null,
      "grid_area": null,
      "grid_auto_columns": null,
      "grid_auto_flow": null,
      "grid_auto_rows": null,
      "grid_column": null,
      "grid_gap": null,
      "grid_row": null,
      "grid_template_areas": null,
      "grid_template_columns": null,
      "grid_template_rows": null,
      "height": null,
      "justify_content": null,
      "justify_items": null,
      "left": null,
      "margin": null,
      "max_height": null,
      "max_width": null,
      "min_height": null,
      "min_width": null,
      "object_fit": null,
      "object_position": null,
      "order": null,
      "overflow": null,
      "overflow_x": null,
      "overflow_y": null,
      "padding": null,
      "right": null,
      "top": null,
      "visibility": null,
      "width": null
     }
    },
    "9b811973de5845e194bbb3a00603f4c2": {
     "model_module": "@jupyter-widgets/base",
     "model_name": "LayoutModel",
     "state": {
      "_model_module": "@jupyter-widgets/base",
      "_model_module_version": "1.2.0",
      "_model_name": "LayoutModel",
      "_view_count": null,
      "_view_module": "@jupyter-widgets/base",
      "_view_module_version": "1.2.0",
      "_view_name": "LayoutView",
      "align_content": null,
      "align_items": null,
      "align_self": null,
      "border": null,
      "bottom": null,
      "display": null,
      "flex": null,
      "flex_flow": null,
      "grid_area": null,
      "grid_auto_columns": null,
      "grid_auto_flow": null,
      "grid_auto_rows": null,
      "grid_column": null,
      "grid_gap": null,
      "grid_row": null,
      "grid_template_areas": null,
      "grid_template_columns": null,
      "grid_template_rows": null,
      "height": null,
      "justify_content": null,
      "justify_items": null,
      "left": null,
      "margin": null,
      "max_height": null,
      "max_width": null,
      "min_height": null,
      "min_width": null,
      "object_fit": null,
      "object_position": null,
      "order": null,
      "overflow": null,
      "overflow_x": null,
      "overflow_y": null,
      "padding": null,
      "right": null,
      "top": null,
      "visibility": null,
      "width": null
     }
    },
    "a2c07e6be50940bc9cc2a6b69438f1fc": {
     "model_module": "@jupyter-widgets/base",
     "model_name": "LayoutModel",
     "state": {
      "_model_module": "@jupyter-widgets/base",
      "_model_module_version": "1.2.0",
      "_model_name": "LayoutModel",
      "_view_count": null,
      "_view_module": "@jupyter-widgets/base",
      "_view_module_version": "1.2.0",
      "_view_name": "LayoutView",
      "align_content": null,
      "align_items": null,
      "align_self": null,
      "border": null,
      "bottom": null,
      "display": null,
      "flex": null,
      "flex_flow": null,
      "grid_area": null,
      "grid_auto_columns": null,
      "grid_auto_flow": null,
      "grid_auto_rows": null,
      "grid_column": null,
      "grid_gap": null,
      "grid_row": null,
      "grid_template_areas": null,
      "grid_template_columns": null,
      "grid_template_rows": null,
      "height": null,
      "justify_content": null,
      "justify_items": null,
      "left": null,
      "margin": null,
      "max_height": null,
      "max_width": null,
      "min_height": null,
      "min_width": null,
      "object_fit": null,
      "object_position": null,
      "order": null,
      "overflow": null,
      "overflow_x": null,
      "overflow_y": null,
      "padding": null,
      "right": null,
      "top": null,
      "visibility": null,
      "width": null
     }
    },
    "ab997c18d84740e9ab1fd2fa472a2b9d": {
     "model_module": "@jupyter-widgets/base",
     "model_name": "LayoutModel",
     "state": {
      "_model_module": "@jupyter-widgets/base",
      "_model_module_version": "1.2.0",
      "_model_name": "LayoutModel",
      "_view_count": null,
      "_view_module": "@jupyter-widgets/base",
      "_view_module_version": "1.2.0",
      "_view_name": "LayoutView",
      "align_content": null,
      "align_items": null,
      "align_self": null,
      "border": null,
      "bottom": null,
      "display": null,
      "flex": null,
      "flex_flow": null,
      "grid_area": null,
      "grid_auto_columns": null,
      "grid_auto_flow": null,
      "grid_auto_rows": null,
      "grid_column": null,
      "grid_gap": null,
      "grid_row": null,
      "grid_template_areas": null,
      "grid_template_columns": null,
      "grid_template_rows": null,
      "height": null,
      "justify_content": null,
      "justify_items": null,
      "left": null,
      "margin": null,
      "max_height": null,
      "max_width": null,
      "min_height": null,
      "min_width": null,
      "object_fit": null,
      "object_position": null,
      "order": null,
      "overflow": null,
      "overflow_x": null,
      "overflow_y": null,
      "padding": null,
      "right": null,
      "top": null,
      "visibility": null,
      "width": null
     }
    },
    "adb435fa83734dfa985c525d416b3930": {
     "model_module": "@jupyter-widgets/base",
     "model_name": "LayoutModel",
     "state": {
      "_model_module": "@jupyter-widgets/base",
      "_model_module_version": "1.2.0",
      "_model_name": "LayoutModel",
      "_view_count": null,
      "_view_module": "@jupyter-widgets/base",
      "_view_module_version": "1.2.0",
      "_view_name": "LayoutView",
      "align_content": null,
      "align_items": null,
      "align_self": null,
      "border": null,
      "bottom": null,
      "display": null,
      "flex": null,
      "flex_flow": null,
      "grid_area": null,
      "grid_auto_columns": null,
      "grid_auto_flow": null,
      "grid_auto_rows": null,
      "grid_column": null,
      "grid_gap": null,
      "grid_row": null,
      "grid_template_areas": null,
      "grid_template_columns": null,
      "grid_template_rows": null,
      "height": null,
      "justify_content": null,
      "justify_items": null,
      "left": null,
      "margin": null,
      "max_height": null,
      "max_width": null,
      "min_height": null,
      "min_width": null,
      "object_fit": null,
      "object_position": null,
      "order": null,
      "overflow": null,
      "overflow_x": null,
      "overflow_y": null,
      "padding": null,
      "right": null,
      "top": null,
      "visibility": null,
      "width": null
     }
    },
    "afede647ab214b92a6158f81d7af1b5b": {
     "model_module": "@jupyter-widgets/base",
     "model_name": "LayoutModel",
     "state": {
      "_model_module": "@jupyter-widgets/base",
      "_model_module_version": "1.2.0",
      "_model_name": "LayoutModel",
      "_view_count": null,
      "_view_module": "@jupyter-widgets/base",
      "_view_module_version": "1.2.0",
      "_view_name": "LayoutView",
      "align_content": null,
      "align_items": null,
      "align_self": null,
      "border": null,
      "bottom": null,
      "display": null,
      "flex": null,
      "flex_flow": null,
      "grid_area": null,
      "grid_auto_columns": null,
      "grid_auto_flow": null,
      "grid_auto_rows": null,
      "grid_column": null,
      "grid_gap": null,
      "grid_row": null,
      "grid_template_areas": null,
      "grid_template_columns": null,
      "grid_template_rows": null,
      "height": null,
      "justify_content": null,
      "justify_items": null,
      "left": null,
      "margin": null,
      "max_height": null,
      "max_width": null,
      "min_height": null,
      "min_width": null,
      "object_fit": null,
      "object_position": null,
      "order": null,
      "overflow": null,
      "overflow_x": null,
      "overflow_y": null,
      "padding": null,
      "right": null,
      "top": null,
      "visibility": null,
      "width": null
     }
    },
    "b004abc8aa9f42f9b6d2de4ba0b67354": {
     "model_module": "@jupyter-widgets/controls",
     "model_name": "HTMLModel",
     "state": {
      "_dom_classes": [],
      "_model_module": "@jupyter-widgets/controls",
      "_model_module_version": "1.5.0",
      "_model_name": "HTMLModel",
      "_view_count": null,
      "_view_module": "@jupyter-widgets/controls",
      "_view_module_version": "1.5.0",
      "_view_name": "HTMLView",
      "description": "",
      "description_tooltip": null,
      "layout": "IPY_MODEL_30585ce7fa5b4630b247a5baddaba8b5",
      "placeholder": "​",
      "style": "IPY_MODEL_316cf25da6ea481b8d0185645882461f",
      "value": " 250/? [00:25&lt;00:00,  9.93it/s]"
     }
    },
    "b279fbd8ee194722a43b811cbbb94619": {
     "model_module": "@jupyter-widgets/controls",
     "model_name": "DescriptionStyleModel",
     "state": {
      "_model_module": "@jupyter-widgets/controls",
      "_model_module_version": "1.5.0",
      "_model_name": "DescriptionStyleModel",
      "_view_count": null,
      "_view_module": "@jupyter-widgets/base",
      "_view_module_version": "1.2.0",
      "_view_name": "StyleView",
      "description_width": ""
     }
    },
    "b3a9e5f716694a02a689643800adb9a5": {
     "model_module": "@jupyter-widgets/controls",
     "model_name": "FloatProgressModel",
     "state": {
      "_dom_classes": [],
      "_model_module": "@jupyter-widgets/controls",
      "_model_module_version": "1.5.0",
      "_model_name": "FloatProgressModel",
      "_view_count": null,
      "_view_module": "@jupyter-widgets/controls",
      "_view_module_version": "1.5.0",
      "_view_name": "ProgressView",
      "bar_style": "success",
      "description": "",
      "description_tooltip": null,
      "layout": "IPY_MODEL_b581a174a90a442f8c94c0ffc1ed002c",
      "max": 1,
      "min": 0,
      "orientation": "horizontal",
      "style": "IPY_MODEL_303c3cb14a254afc86180d0b5f478dc9",
      "value": 1
     }
    },
    "b42ab3eb8ca542639138921b1a385650": {
     "model_module": "@jupyter-widgets/controls",
     "model_name": "HTMLModel",
     "state": {
      "_dom_classes": [],
      "_model_module": "@jupyter-widgets/controls",
      "_model_module_version": "1.5.0",
      "_model_name": "HTMLModel",
      "_view_count": null,
      "_view_module": "@jupyter-widgets/controls",
      "_view_module_version": "1.5.0",
      "_view_name": "HTMLView",
      "description": "",
      "description_tooltip": null,
      "layout": "IPY_MODEL_805e1ea513334d5c9bbdc46dd4f3e5e8",
      "placeholder": "​",
      "style": "IPY_MODEL_115a8e1e571f4438ba4810e79039362e",
      "value": " 250/? [00:59&lt;00:00,  4.18it/s]"
     }
    },
    "b581a174a90a442f8c94c0ffc1ed002c": {
     "model_module": "@jupyter-widgets/base",
     "model_name": "LayoutModel",
     "state": {
      "_model_module": "@jupyter-widgets/base",
      "_model_module_version": "1.2.0",
      "_model_name": "LayoutModel",
      "_view_count": null,
      "_view_module": "@jupyter-widgets/base",
      "_view_module_version": "1.2.0",
      "_view_name": "LayoutView",
      "align_content": null,
      "align_items": null,
      "align_self": null,
      "border": null,
      "bottom": null,
      "display": null,
      "flex": null,
      "flex_flow": null,
      "grid_area": null,
      "grid_auto_columns": null,
      "grid_auto_flow": null,
      "grid_auto_rows": null,
      "grid_column": null,
      "grid_gap": null,
      "grid_row": null,
      "grid_template_areas": null,
      "grid_template_columns": null,
      "grid_template_rows": null,
      "height": null,
      "justify_content": null,
      "justify_items": null,
      "left": null,
      "margin": null,
      "max_height": null,
      "max_width": null,
      "min_height": null,
      "min_width": null,
      "object_fit": null,
      "object_position": null,
      "order": null,
      "overflow": null,
      "overflow_x": null,
      "overflow_y": null,
      "padding": null,
      "right": null,
      "top": null,
      "visibility": null,
      "width": null
     }
    },
    "ba26a331fec94a299291525e743e100f": {
     "model_module": "@jupyter-widgets/controls",
     "model_name": "FloatProgressModel",
     "state": {
      "_dom_classes": [],
      "_model_module": "@jupyter-widgets/controls",
      "_model_module_version": "1.5.0",
      "_model_name": "FloatProgressModel",
      "_view_count": null,
      "_view_module": "@jupyter-widgets/controls",
      "_view_module_version": "1.5.0",
      "_view_name": "ProgressView",
      "bar_style": "success",
      "description": "",
      "description_tooltip": null,
      "layout": "IPY_MODEL_6163a0465db047f89ca7a560b34fee9b",
      "max": 1,
      "min": 0,
      "orientation": "horizontal",
      "style": "IPY_MODEL_4795dbd4251043d1ae29fc0d8f37bdcb",
      "value": 1
     }
    },
    "bb030d945e4e4c299a8b97a0095eca02": {
     "model_module": "@jupyter-widgets/base",
     "model_name": "LayoutModel",
     "state": {
      "_model_module": "@jupyter-widgets/base",
      "_model_module_version": "1.2.0",
      "_model_name": "LayoutModel",
      "_view_count": null,
      "_view_module": "@jupyter-widgets/base",
      "_view_module_version": "1.2.0",
      "_view_name": "LayoutView",
      "align_content": null,
      "align_items": null,
      "align_self": null,
      "border": null,
      "bottom": null,
      "display": null,
      "flex": null,
      "flex_flow": null,
      "grid_area": null,
      "grid_auto_columns": null,
      "grid_auto_flow": null,
      "grid_auto_rows": null,
      "grid_column": null,
      "grid_gap": null,
      "grid_row": null,
      "grid_template_areas": null,
      "grid_template_columns": null,
      "grid_template_rows": null,
      "height": null,
      "justify_content": null,
      "justify_items": null,
      "left": null,
      "margin": null,
      "max_height": null,
      "max_width": null,
      "min_height": null,
      "min_width": null,
      "object_fit": null,
      "object_position": null,
      "order": null,
      "overflow": null,
      "overflow_x": null,
      "overflow_y": null,
      "padding": null,
      "right": null,
      "top": null,
      "visibility": null,
      "width": null
     }
    },
    "bb4d6399905f4b1588e6d38263efcd05": {
     "model_module": "@jupyter-widgets/controls",
     "model_name": "HBoxModel",
     "state": {
      "_dom_classes": [],
      "_model_module": "@jupyter-widgets/controls",
      "_model_module_version": "1.5.0",
      "_model_name": "HBoxModel",
      "_view_count": null,
      "_view_module": "@jupyter-widgets/controls",
      "_view_module_version": "1.5.0",
      "_view_name": "HBoxView",
      "box_style": "",
      "children": [
       "IPY_MODEL_ba26a331fec94a299291525e743e100f",
       "IPY_MODEL_39d46a489d774b2eac0237ccbd5d5931"
      ],
      "layout": "IPY_MODEL_69cd426c9ecc4b619ef96166a5275214"
     }
    },
    "c2c0eed703ac4ec3b6643f3973443e88": {
     "model_module": "@jupyter-widgets/base",
     "model_name": "LayoutModel",
     "state": {
      "_model_module": "@jupyter-widgets/base",
      "_model_module_version": "1.2.0",
      "_model_name": "LayoutModel",
      "_view_count": null,
      "_view_module": "@jupyter-widgets/base",
      "_view_module_version": "1.2.0",
      "_view_name": "LayoutView",
      "align_content": null,
      "align_items": null,
      "align_self": null,
      "border": null,
      "bottom": null,
      "display": null,
      "flex": null,
      "flex_flow": null,
      "grid_area": null,
      "grid_auto_columns": null,
      "grid_auto_flow": null,
      "grid_auto_rows": null,
      "grid_column": null,
      "grid_gap": null,
      "grid_row": null,
      "grid_template_areas": null,
      "grid_template_columns": null,
      "grid_template_rows": null,
      "height": null,
      "justify_content": null,
      "justify_items": null,
      "left": null,
      "margin": null,
      "max_height": null,
      "max_width": null,
      "min_height": null,
      "min_width": null,
      "object_fit": null,
      "object_position": null,
      "order": null,
      "overflow": null,
      "overflow_x": null,
      "overflow_y": null,
      "padding": null,
      "right": null,
      "top": null,
      "visibility": null,
      "width": null
     }
    },
    "c322e7cb475040aabf23105fe9a9e56a": {
     "model_module": "@jupyter-widgets/controls",
     "model_name": "HTMLModel",
     "state": {
      "_dom_classes": [],
      "_model_module": "@jupyter-widgets/controls",
      "_model_module_version": "1.5.0",
      "_model_name": "HTMLModel",
      "_view_count": null,
      "_view_module": "@jupyter-widgets/controls",
      "_view_module_version": "1.5.0",
      "_view_name": "HTMLView",
      "description": "",
      "description_tooltip": null,
      "layout": "IPY_MODEL_c7b7acb1bfb14a3ea2c41c17b72af12b",
      "placeholder": "​",
      "style": "IPY_MODEL_b279fbd8ee194722a43b811cbbb94619",
      "value": " 250/? [00:33&lt;00:00,  7.42it/s]"
     }
    },
    "c57dadb319ec4f1f81b92dbdb77a63a0": {
     "model_module": "@jupyter-widgets/controls",
     "model_name": "ProgressStyleModel",
     "state": {
      "_model_module": "@jupyter-widgets/controls",
      "_model_module_version": "1.5.0",
      "_model_name": "ProgressStyleModel",
      "_view_count": null,
      "_view_module": "@jupyter-widgets/base",
      "_view_module_version": "1.2.0",
      "_view_name": "StyleView",
      "bar_color": null,
      "description_width": "initial"
     }
    },
    "c7b7acb1bfb14a3ea2c41c17b72af12b": {
     "model_module": "@jupyter-widgets/base",
     "model_name": "LayoutModel",
     "state": {
      "_model_module": "@jupyter-widgets/base",
      "_model_module_version": "1.2.0",
      "_model_name": "LayoutModel",
      "_view_count": null,
      "_view_module": "@jupyter-widgets/base",
      "_view_module_version": "1.2.0",
      "_view_name": "LayoutView",
      "align_content": null,
      "align_items": null,
      "align_self": null,
      "border": null,
      "bottom": null,
      "display": null,
      "flex": null,
      "flex_flow": null,
      "grid_area": null,
      "grid_auto_columns": null,
      "grid_auto_flow": null,
      "grid_auto_rows": null,
      "grid_column": null,
      "grid_gap": null,
      "grid_row": null,
      "grid_template_areas": null,
      "grid_template_columns": null,
      "grid_template_rows": null,
      "height": null,
      "justify_content": null,
      "justify_items": null,
      "left": null,
      "margin": null,
      "max_height": null,
      "max_width": null,
      "min_height": null,
      "min_width": null,
      "object_fit": null,
      "object_position": null,
      "order": null,
      "overflow": null,
      "overflow_x": null,
      "overflow_y": null,
      "padding": null,
      "right": null,
      "top": null,
      "visibility": null,
      "width": null
     }
    },
    "c7dadbec9cba46e098a5652ec55f3467": {
     "model_module": "@jupyter-widgets/controls",
     "model_name": "HTMLModel",
     "state": {
      "_dom_classes": [],
      "_model_module": "@jupyter-widgets/controls",
      "_model_module_version": "1.5.0",
      "_model_name": "HTMLModel",
      "_view_count": null,
      "_view_module": "@jupyter-widgets/controls",
      "_view_module_version": "1.5.0",
      "_view_name": "HTMLView",
      "description": "",
      "description_tooltip": null,
      "layout": "IPY_MODEL_c2c0eed703ac4ec3b6643f3973443e88",
      "placeholder": "​",
      "style": "IPY_MODEL_322273b38b71464fac0eb7b22920add8",
      "value": " 250/? [00:16&lt;00:00, 14.86it/s]"
     }
    },
    "d59ccbaf90f84179a129edc0de206092": {
     "model_module": "@jupyter-widgets/controls",
     "model_name": "HBoxModel",
     "state": {
      "_dom_classes": [],
      "_model_module": "@jupyter-widgets/controls",
      "_model_module_version": "1.5.0",
      "_model_name": "HBoxModel",
      "_view_count": null,
      "_view_module": "@jupyter-widgets/controls",
      "_view_module_version": "1.5.0",
      "_view_name": "HBoxView",
      "box_style": "",
      "children": [
       "IPY_MODEL_8eef360df096408585578090576c42c3",
       "IPY_MODEL_c7dadbec9cba46e098a5652ec55f3467"
      ],
      "layout": "IPY_MODEL_25ed9dc6d04d44eba124c20543a17d7a"
     }
    },
    "d873eda2abca499d93b2eb461b2fb8f8": {
     "model_module": "@jupyter-widgets/base",
     "model_name": "LayoutModel",
     "state": {
      "_model_module": "@jupyter-widgets/base",
      "_model_module_version": "1.2.0",
      "_model_name": "LayoutModel",
      "_view_count": null,
      "_view_module": "@jupyter-widgets/base",
      "_view_module_version": "1.2.0",
      "_view_name": "LayoutView",
      "align_content": null,
      "align_items": null,
      "align_self": null,
      "border": null,
      "bottom": null,
      "display": null,
      "flex": null,
      "flex_flow": null,
      "grid_area": null,
      "grid_auto_columns": null,
      "grid_auto_flow": null,
      "grid_auto_rows": null,
      "grid_column": null,
      "grid_gap": null,
      "grid_row": null,
      "grid_template_areas": null,
      "grid_template_columns": null,
      "grid_template_rows": null,
      "height": null,
      "justify_content": null,
      "justify_items": null,
      "left": null,
      "margin": null,
      "max_height": null,
      "max_width": null,
      "min_height": null,
      "min_width": null,
      "object_fit": null,
      "object_position": null,
      "order": null,
      "overflow": null,
      "overflow_x": null,
      "overflow_y": null,
      "padding": null,
      "right": null,
      "top": null,
      "visibility": null,
      "width": null
     }
    },
    "e3a16d0cdb104a4785f444c74839ed96": {
     "model_module": "@jupyter-widgets/base",
     "model_name": "LayoutModel",
     "state": {
      "_model_module": "@jupyter-widgets/base",
      "_model_module_version": "1.2.0",
      "_model_name": "LayoutModel",
      "_view_count": null,
      "_view_module": "@jupyter-widgets/base",
      "_view_module_version": "1.2.0",
      "_view_name": "LayoutView",
      "align_content": null,
      "align_items": null,
      "align_self": null,
      "border": null,
      "bottom": null,
      "display": null,
      "flex": null,
      "flex_flow": null,
      "grid_area": null,
      "grid_auto_columns": null,
      "grid_auto_flow": null,
      "grid_auto_rows": null,
      "grid_column": null,
      "grid_gap": null,
      "grid_row": null,
      "grid_template_areas": null,
      "grid_template_columns": null,
      "grid_template_rows": null,
      "height": null,
      "justify_content": null,
      "justify_items": null,
      "left": null,
      "margin": null,
      "max_height": null,
      "max_width": null,
      "min_height": null,
      "min_width": null,
      "object_fit": null,
      "object_position": null,
      "order": null,
      "overflow": null,
      "overflow_x": null,
      "overflow_y": null,
      "padding": null,
      "right": null,
      "top": null,
      "visibility": null,
      "width": null
     }
    },
    "ee4629d6ef2d4827937d66616049d055": {
     "model_module": "@jupyter-widgets/controls",
     "model_name": "ProgressStyleModel",
     "state": {
      "_model_module": "@jupyter-widgets/controls",
      "_model_module_version": "1.5.0",
      "_model_name": "ProgressStyleModel",
      "_view_count": null,
      "_view_module": "@jupyter-widgets/base",
      "_view_module_version": "1.2.0",
      "_view_name": "StyleView",
      "bar_color": null,
      "description_width": "initial"
     }
    },
    "f0ac69d1825941aab99c9c87630c23e2": {
     "model_module": "@jupyter-widgets/controls",
     "model_name": "DescriptionStyleModel",
     "state": {
      "_model_module": "@jupyter-widgets/controls",
      "_model_module_version": "1.5.0",
      "_model_name": "DescriptionStyleModel",
      "_view_count": null,
      "_view_module": "@jupyter-widgets/base",
      "_view_module_version": "1.2.0",
      "_view_name": "StyleView",
      "description_width": ""
     }
    },
    "f30043d33c824519b4ad2f2a0765430d": {
     "model_module": "@jupyter-widgets/controls",
     "model_name": "HTMLModel",
     "state": {
      "_dom_classes": [],
      "_model_module": "@jupyter-widgets/controls",
      "_model_module_version": "1.5.0",
      "_model_name": "HTMLModel",
      "_view_count": null,
      "_view_module": "@jupyter-widgets/controls",
      "_view_module_version": "1.5.0",
      "_view_name": "HTMLView",
      "description": "",
      "description_tooltip": null,
      "layout": "IPY_MODEL_ab997c18d84740e9ab1fd2fa472a2b9d",
      "placeholder": "​",
      "style": "IPY_MODEL_3ad1659f25ba4f6c90edad0e12af47a5",
      "value": " 250/? [00:08&lt;00:00, 29.63it/s]"
     }
    },
    "f9375ec84dea466b9ae15bd140550521": {
     "model_module": "@jupyter-widgets/base",
     "model_name": "LayoutModel",
     "state": {
      "_model_module": "@jupyter-widgets/base",
      "_model_module_version": "1.2.0",
      "_model_name": "LayoutModel",
      "_view_count": null,
      "_view_module": "@jupyter-widgets/base",
      "_view_module_version": "1.2.0",
      "_view_name": "LayoutView",
      "align_content": null,
      "align_items": null,
      "align_self": null,
      "border": null,
      "bottom": null,
      "display": null,
      "flex": null,
      "flex_flow": null,
      "grid_area": null,
      "grid_auto_columns": null,
      "grid_auto_flow": null,
      "grid_auto_rows": null,
      "grid_column": null,
      "grid_gap": null,
      "grid_row": null,
      "grid_template_areas": null,
      "grid_template_columns": null,
      "grid_template_rows": null,
      "height": null,
      "justify_content": null,
      "justify_items": null,
      "left": null,
      "margin": null,
      "max_height": null,
      "max_width": null,
      "min_height": null,
      "min_width": null,
      "object_fit": null,
      "object_position": null,
      "order": null,
      "overflow": null,
      "overflow_x": null,
      "overflow_y": null,
      "padding": null,
      "right": null,
      "top": null,
      "visibility": null,
      "width": null
     }
    },
    "fadb39a3509e4832bb432dcb2f786663": {
     "model_module": "@jupyter-widgets/base",
     "model_name": "LayoutModel",
     "state": {
      "_model_module": "@jupyter-widgets/base",
      "_model_module_version": "1.2.0",
      "_model_name": "LayoutModel",
      "_view_count": null,
      "_view_module": "@jupyter-widgets/base",
      "_view_module_version": "1.2.0",
      "_view_name": "LayoutView",
      "align_content": null,
      "align_items": null,
      "align_self": null,
      "border": null,
      "bottom": null,
      "display": null,
      "flex": null,
      "flex_flow": null,
      "grid_area": null,
      "grid_auto_columns": null,
      "grid_auto_flow": null,
      "grid_auto_rows": null,
      "grid_column": null,
      "grid_gap": null,
      "grid_row": null,
      "grid_template_areas": null,
      "grid_template_columns": null,
      "grid_template_rows": null,
      "height": null,
      "justify_content": null,
      "justify_items": null,
      "left": null,
      "margin": null,
      "max_height": null,
      "max_width": null,
      "min_height": null,
      "min_width": null,
      "object_fit": null,
      "object_position": null,
      "order": null,
      "overflow": null,
      "overflow_x": null,
      "overflow_y": null,
      "padding": null,
      "right": null,
      "top": null,
      "visibility": null,
      "width": null
     }
    },
    "fd7082b8c3444cf09c4055ebb9f6ffe8": {
     "model_module": "@jupyter-widgets/controls",
     "model_name": "HBoxModel",
     "state": {
      "_dom_classes": [],
      "_model_module": "@jupyter-widgets/controls",
      "_model_module_version": "1.5.0",
      "_model_name": "HBoxModel",
      "_view_count": null,
      "_view_module": "@jupyter-widgets/controls",
      "_view_module_version": "1.5.0",
      "_view_name": "HBoxView",
      "box_style": "",
      "children": [
       "IPY_MODEL_09d4403246274d3d86e1d95de928359b",
       "IPY_MODEL_969a5ff9b36a4006b9644f1ef7e315d8"
      ],
      "layout": "IPY_MODEL_9b811973de5845e194bbb3a00603f4c2"
     }
    }
   }
  }
 },
 "nbformat": 4,
 "nbformat_minor": 4
}
